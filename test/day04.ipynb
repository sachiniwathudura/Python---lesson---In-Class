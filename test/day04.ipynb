{
 "cells": [
  {
   "cell_type": "code",
   "execution_count": 3,
   "metadata": {},
   "outputs": [
    {
     "name": "stdout",
     "output_type": "stream",
     "text": [
      "(2, 4, 7, 9, 3) <class 'tuple'>\n",
      "2\n",
      "4\n",
      "7\n",
      "9\n",
      "3\n"
     ]
    }
   ],
   "source": [
    "def arbitary_positonal_argument(*args):\n",
    "    print(args, type(args))\n",
    "    for num in args:\n",
    "        print (num)\n",
    "\n",
    "arbitary_positonal_argument(2,4,7,9,3)"
   ]
  },
  {
   "cell_type": "code",
   "execution_count": null,
   "metadata": {},
   "outputs": [
    {
     "name": "stdout",
     "output_type": "stream",
     "text": [
      "Student Name: John\n",
      "Average Grade: 86.25\n",
      "Highest Grade: 92\n",
      "Lowest Grade: 78\n",
      "Alice: No grades available.\n"
     ]
    }
   ],
   "source": [
    "def summarizer_grades(student_name, *grades):\n",
    "    if not grades:\n",
    "        print(f\"{student_name}: No grades available.\")\n",
    "        return\n",
    "\n",
    "    # Print the student's name\n",
    "    print(f\"Student Name: {student_name}\")\n",
    "    \n",
    "    # Calculate and print the average, highest, and lowest grades\n",
    "    average_grade = sum(grades) / len(grades)\n",
    "    highest_grade = max(grades)\n",
    "    lowest_grade = min(grades)\n",
    "\n",
    "    print(f\"Average Grade: {average_grade:.2f}\")\n",
    "    print(f\"Highest Grade: {highest_grade}\")\n",
    "    print(f\"Lowest Grade: {lowest_grade}\")\n",
    "\n",
    "# Example usage:\n",
    "summarizer_grades(\"John\", 85, 90, 78, 92)\n",
    "summarizer_grades(\"Alice\")\n"
   ]
  },
  {
   "cell_type": "code",
   "execution_count": 9,
   "metadata": {},
   "outputs": [
    {
     "name": "stdout",
     "output_type": "stream",
     "text": [
      "Alice: No grades available.\n"
     ]
    }
   ],
   "source": [
    "def summarizer_grades(student_name, *grades):\n",
    "    if not grades:\n",
    "        print(f\"{student_name}: No grades available.\")\n",
    "    else:\n",
    "        print(\"highest grade :\" , max(grades))\n",
    "        print(\"highest grade :\" , min(grades))\n",
    "        print(\"highest grade :\" , sum(grades)/len(grades))\n",
    "# summarizer_grades(\"John\", 85, 90, 78, 92)\n",
    "summarizer_grades(\"Alice\")\n"
   ]
  },
  {
   "cell_type": "code",
   "execution_count": 14,
   "metadata": {},
   "outputs": [
    {
     "name": "stdout",
     "output_type": "stream",
     "text": [
      "{'name': 'jhon', 'age': '24', 'city': 'newyork'} <class 'dict'>\n",
      "key = name value = jhon\n",
      "key = age value = 24\n",
      "key = city value = newyork\n"
     ]
    }
   ],
   "source": [
    "def arbitary_keywords_argument(**kwargs):\n",
    "    print(kwargs, type(kwargs))\n",
    "\n",
    "    for key,value in kwargs.items():\n",
    "        print(\"key =\",key, \"value =\",value)\n",
    "    \n",
    "\n",
    "arbitary_keywords_argument(name=\"jhon\",age=\"24\",city=\"newyork\")"
   ]
  },
  {
   "cell_type": "code",
   "execution_count": 26,
   "metadata": {},
   "outputs": [
    {
     "data": {
      "text/plain": [
       "19"
      ]
     },
     "execution_count": 26,
     "metadata": {},
     "output_type": "execute_result"
    }
   ],
   "source": [
    "abs(-19)"
   ]
  },
  {
   "cell_type": "code",
   "execution_count": 25,
   "metadata": {},
   "outputs": [
    {
     "name": "stdout",
     "output_type": "stream",
     "text": [
      "Name: Alice\n",
      "age : 30\n",
      "position : Software Engineer\n",
      "department : IT\n",
      "salary : 70000\n",
      "\n",
      "Returned Dictionary:\n",
      "{'name': 'Alice', 'age': 30, 'position': 'Software Engineer', 'department': 'IT', 'salary': 70000}\n"
     ]
    }
   ],
   "source": [
    "# write a python function called 'employee_info' that ascept a required 'name' parameter and an arbitary number of keywords arguments reprensnting aditional employee details, the funtion should , 1.print the employyes name, 2. iterate through the key woard arguments and print each key - value pair in the format '<key>:<value>',3.modify the emplyee info funtion to return a dictonary contening all employee detaial(include name and the aditional atributs passed were **kwargs)\n",
    "\n",
    "\n",
    "def employee_info(name, **kwargs):\n",
    "\n",
    "    # Print the employee's name\n",
    "    print(\"Name:\" , name)\n",
    "    \n",
    "    # Iterate through the additional attributes and print each key-value pair\n",
    "    for key, value in kwargs.items():\n",
    "        print(key,\":\" ,value)\n",
    "    \n",
    "    # Create a dictionary with all employee details\n",
    "    employee_details = {'name': name , **kwargs}\n",
    "    \n",
    "    # Return the dictionary\n",
    "    return employee_details\n",
    "\n",
    "# Example usage\n",
    "result = employee_info(\n",
    "    \"Alice\",\n",
    "    age=30,\n",
    "    position=\"Software Engineer\",\n",
    "    department=\"IT\",\n",
    "    salary=70000\n",
    ")\n",
    "print(\"\\nReturned Dictionary:\")\n",
    "print(result)\n",
    "\n",
    "\n"
   ]
  },
  {
   "cell_type": "code",
   "execution_count": 29,
   "metadata": {},
   "outputs": [
    {
     "name": "stdout",
     "output_type": "stream",
     "text": [
      "<map object at 0x000001AA10CEA500> <class 'map'>\n",
      "[4, 9, 16, 36, 64]\n"
     ]
    }
   ],
   "source": [
    "def cal_square(x):\n",
    "    return(x*x)\n",
    "\n",
    "# map(function ,iterable)\n",
    "my_list = [2,3,4,6,8]\n",
    "result = map(cal_square ,my_list)\n",
    "print(result, type(result))\n",
    "print(list(result))"
   ]
  },
  {
   "cell_type": "code",
   "execution_count": 32,
   "metadata": {},
   "outputs": [
    {
     "name": "stdout",
     "output_type": "stream",
     "text": [
      "[17, 11, 11, 7]\n"
     ]
    }
   ],
   "source": [
    "def sum_num(x,y):\n",
    "    return(x+y)\n",
    "\n",
    "# map(function ,iterable)\n",
    "my_list_1 = [10,8,5,6]\n",
    "my_list_2 = [7,3,6,1]\n",
    "\n",
    "result = map(sum_num,my_list_1,my_list_2)\n",
    "print(list(result))\n"
   ]
  },
  {
   "cell_type": "code",
   "execution_count": 36,
   "metadata": {},
   "outputs": [
    {
     "name": "stdout",
     "output_type": "stream",
     "text": [
      "[68.0, 86.0, 104.0, 50.0, 77.0]\n"
     ]
    }
   ],
   "source": [
    "tempreture = [20,30,40,10,25]\n",
    "def convert_fahrenheit(celcius):\n",
    "    fahrenheit = (celcius*9/5) + 32\n",
    "    return fahrenheit\n",
    "\n",
    "results = map(convert_fahrenheit,tempreture)\n",
    "print(list(results))\n",
    "    "
   ]
  },
  {
   "cell_type": "code",
   "execution_count": 38,
   "metadata": {},
   "outputs": [
    {
     "name": "stdout",
     "output_type": "stream",
     "text": [
      "[2, 4, 8] <class 'filter'>\n"
     ]
    }
   ],
   "source": [
    "def check_even(x):\n",
    "    return x%2 == 0\n",
    "\n",
    "num = [2,4,5,7,8,9]\n",
    "\n",
    "results = filter(check_even,num)\n",
    "print(list(results), type(results))"
   ]
  },
  {
   "cell_type": "code",
   "execution_count": 40,
   "metadata": {},
   "outputs": [
    {
     "name": "stdout",
     "output_type": "stream",
     "text": [
      "9\n",
      "7\n"
     ]
    }
   ],
   "source": [
    "add = lambda x,y : x+y\n",
    "print(add(4,5))\n",
    "\n",
    "results = (lambda x,y :x+y)(4,3)\n",
    "print(results)"
   ]
  },
  {
   "cell_type": "code",
   "execution_count": 42,
   "metadata": {},
   "outputs": [
    {
     "name": "stdout",
     "output_type": "stream",
     "text": [
      "100\n"
     ]
    }
   ],
   "source": [
    "add = lambda x : x**2\n",
    "print(add(10))"
   ]
  },
  {
   "cell_type": "code",
   "execution_count": 45,
   "metadata": {},
   "outputs": [
    {
     "name": "stdout",
     "output_type": "stream",
     "text": [
      "[('alice', 23), ('jhon', 34), ('sasoba', 50)]\n"
     ]
    }
   ],
   "source": [
    "people= [(\"alice\",23),(\"jhon\",34),(\"kate\",10),(\"sasoba\",50)]\n",
    "\n",
    "# print(people)\n",
    "\n",
    "# for item in people:\n",
    "#      age=(item[1])\n",
    "\n",
    "# def check_age(age):\n",
    "#     age > 18\n",
    "#     return age\n",
    "\n",
    "adults = list(filter(lambda person:person[1]>=18 ,people))\n",
    "print(adults)\n",
    "\n"
   ]
  },
  {
   "cell_type": "code",
   "execution_count": 48,
   "metadata": {},
   "outputs": [
    {
     "name": "stdout",
     "output_type": "stream",
     "text": [
      "12\n"
     ]
    }
   ],
   "source": [
    "def my_fun(n):\n",
    "    return lambda a :a*n\n",
    "my_doubler = my_fun(3)\n",
    "print(my_doubler(4))"
   ]
  },
  {
   "cell_type": "code",
   "execution_count": 2,
   "metadata": {},
   "outputs": [
    {
     "name": "stdout",
     "output_type": "stream",
     "text": [
      "4\n"
     ]
    }
   ],
   "source": [
    "largest_num = (lambda x,y : x if x>y else y) (3,4)\n",
    "print(largest_num)\n",
    "\n",
    "\n"
   ]
  },
  {
   "cell_type": "code",
   "execution_count": 25,
   "metadata": {},
   "outputs": [
    {
     "name": "stdout",
     "output_type": "stream",
     "text": [
      "479001600\n"
     ]
    }
   ],
   "source": [
    "def find_factorial(n):\n",
    "    if n < 0:\n",
    "        return \"Factorial is not defined for negative numbers.\"\n",
    "    result = 1\n",
    "    for i in range(1, n + 1):\n",
    "        result *= i\n",
    "    return result\n",
    "print(find_factorial(12))\n"
   ]
  },
  {
   "cell_type": "code",
   "execution_count": 23,
   "metadata": {},
   "outputs": [
    {
     "data": {
      "text/plain": [
       "48119977967797748601669900935813797818348080406726138081308559411630575189001095591292230585206733851868464009619343585194052091124618166270271481881393331431627962810299844149333789044689395510487167879769325303699470467829234399263326545652860748605075746366928323606645492277541120083438086727369377887676000211405318480244354207419604864176969950581435222198851194568984095705945549589054568321792338919149442985919957734792959402499096845643020401869381175603964424333222114125974374817804242633309769804293952870034619354125014210045647664063240162007560108665290568646128342557147350985358724154623253371867470765120422073867963935775258692109753041762094343569050497470353531764481503174750911858230906998361066084787758316110585736013365377431860738572261325738233656835271947352695180865573043834027955539012765489372645042504406597752357481931532872356635411224578334040522294746402829585458478708778346379431862368824819009177091444034885941394319343910223168655869761799669075059527608502465593181398566214786801211651657222004123456498258513120359126022843038535083709796101565934859483203933443308601475813108363074118562404412420191947127585482919172173045961122122701434297870691932154082986945954748251105782181586397275820342101470457300633590139512919549474113721711616912519714191760699935509810254849967087635936181176363954224186031346682928878492872249485456690138831610135377916327940503701400290125509132140782614640495733518048670983360134097860364762638658894873174499870133559364805443430831459505987809215393353387232078177562975021460595422358573128085417162336030235138652735438053034531962620811566019896879275257163988352090874930346115518331202927263708446729394381879888839549731876978682249320628599631628662375508826209854754631984276392670919216923002770077734756077549035942976209159416211581439461484509549370357486770276807687544580164314647595031368948490282897173328013518435758700056425922638411889496527975846052717958044813737086806600171993703579485864029383208714528950303253881360812631162134750100307772634337467012820470715650810714689905121432259528505483053930402217400686061612471659630192434864094539828085677465383026128353771071152304197549798870706139893609140045659756285435787771636258253666592102151236142132724425850991205720020493660580896600891888594659612927724357866265934517615841298789154462249169688860092640284756382431746120357767933119589280468687348061788072986362788582227019465263474828590646048451070702923434422714349595857654843699542321849363652767771978314681013589442955219879702008068934096624650625769705233333462826013860098698155180331145365652453482955497979915586438474687345677874451117702250441711504844638414485210092261397271970571029038581873069951161330495772310508760528249706514238384269808639507080418298318311361373628512041716415196868334254119137139589149597210032153545941114666530498906529240798164804007394775927836045668573993316428972539932745757171947402454257142633700815922407278403640595355142075599446056337986717212316223257763412164180899532722039383244462511410346646148863397237096276822656157561194665545757017429842404840309758925618650507921043007241637877939825811059339138925526124514467627126548126795078784022672860886251974581362141782786407402896309678008909663263987018538107050886193489012497405005820727271232733728141775132722013860591169620692789290456794698409808557447756701311883266010859016027592252397754508251628808293537776536569608111330584797160694847898923196743970244451842702266403326317319092117151143971679500042590269255093130215984418097418435474300467281949798227102529873732749027992079700287275900856241172902880909546551703263202853584498085358955307673717177961902081098618729046348849060249600000000000000000000000000000000000000000000000000000000000000000000000000000000000000000000000000000000000000000000000000000000000000000000000000000000000000000000000000000000000000000000000000000000000000000000000000000000000000000000000000000000000000000000000000000000000000000000000000000000000000000000000000000000000000000000000000000000000000000000000000000000000000"
      ]
     },
     "execution_count": 23,
     "metadata": {},
     "output_type": "execute_result"
    }
   ],
   "source": [
    "def find_factorial(x):\n",
    "    if x==0 or x==1 :\n",
    "        return 1\n",
    "    else :\n",
    "        return(x*find_factorial(x-1))\n",
    "find_factorial(1500)"
   ]
  },
  {
   "cell_type": "code",
   "execution_count": null,
   "metadata": {},
   "outputs": [
    {
     "name": "stdout",
     "output_type": "stream",
     "text": [
      "The sum of all elements in the array is:  20\n"
     ]
    }
   ],
   "source": [
    "\n",
    "def sum_recursive(arr):\n",
    "    # Base case: if the array is empty, return 0\n",
    "    if not arr:\n",
    "        return 0\n",
    "    # Recursive case: add the first element to the sum of the rest\n",
    "    return arr[0] + sum_recursive(arr[1:])\n",
    "\n",
    "arr = [2,3,4,5,6]\n",
    "\n",
    "total_sum = sum_recursive(arr)\n",
    "\n",
    "print(\"The sum of all elements in the array is: \",total_sum)\n"
   ]
  }
 ],
 "metadata": {
  "kernelspec": {
   "display_name": "Python 3",
   "language": "python",
   "name": "python3"
  },
  "language_info": {
   "codemirror_mode": {
    "name": "ipython",
    "version": 3
   },
   "file_extension": ".py",
   "mimetype": "text/x-python",
   "name": "python",
   "nbconvert_exporter": "python",
   "pygments_lexer": "ipython3",
   "version": "3.13.0"
  }
 },
 "nbformat": 4,
 "nbformat_minor": 2
}
