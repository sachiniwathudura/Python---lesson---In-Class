{
 "cells": [
  {
   "cell_type": "code",
   "execution_count": 9,
   "metadata": {},
   "outputs": [
    {
     "name": "stdout",
     "output_type": "stream",
     "text": [
      "[8, 5, 9, 2, 11]\n"
     ]
    }
   ],
   "source": [
    "my_list_1 = [8,5,9,2,11]\n",
    "\n",
    "my_list_2 = my_list_1.copy()\n",
    "\n",
    "print(my_list_2)\n"
   ]
  },
  {
   "cell_type": "code",
   "execution_count": 12,
   "metadata": {},
   "outputs": [
    {
     "name": "stdout",
     "output_type": "stream",
     "text": [
      "5\n",
      "<class 'tuple'>\n"
     ]
    }
   ],
   "source": [
    "my_tuple = (2,4,\"apple\",True,2)\n",
    "print(len(my_tuple))\n",
    "print(type(my_tuple))"
   ]
  },
  {
   "cell_type": "code",
   "execution_count": 16,
   "metadata": {},
   "outputs": [
    {
     "name": "stdout",
     "output_type": "stream",
     "text": [
      "True\n",
      "(4, 'apple')\n"
     ]
    }
   ],
   "source": [
    "my_tuple = (2,4,\"apple\",True,2)\n",
    "print(my_tuple[-2])\n",
    "print(my_tuple[1:3])"
   ]
  },
  {
   "cell_type": "code",
   "execution_count": 14,
   "metadata": {},
   "outputs": [
    {
     "name": "stdout",
     "output_type": "stream",
     "text": [
      "<class 'tuple'>\n"
     ]
    }
   ],
   "source": [
    "my_tuple_1 =(2,)\n",
    "print(type(my_tuple_1))"
   ]
  },
  {
   "cell_type": "code",
   "execution_count": 18,
   "metadata": {},
   "outputs": [
    {
     "name": "stdout",
     "output_type": "stream",
     "text": [
      "<class 'list'>\n",
      "(2, 3, 15, 3, 8) <class 'tuple'>\n"
     ]
    }
   ],
   "source": [
    "my_tuple =(2,3,4,3,8)\n",
    "my_list_1 = list(my_tuple)\n",
    "print(type(my_list_1))\n",
    "\n",
    "my_list_1[2] =15\n",
    "my_tuple = tuple(my_list_1)\n",
    "print(my_tuple,type(my_tuple))"
   ]
  },
  {
   "cell_type": "code",
   "execution_count": 23,
   "metadata": {},
   "outputs": [
    {
     "name": "stdout",
     "output_type": "stream",
     "text": [
      "banana\n",
      "False\n"
     ]
    }
   ],
   "source": [
    "my_tuple =((1,2,2),(\"apple\",\"banana\",\"grapes\"),(True,False))\n",
    "print(my_tuple[1][1])\n",
    "print(my_tuple[2][1])"
   ]
  },
  {
   "cell_type": "code",
   "execution_count": null,
   "metadata": {},
   "outputs": [
    {
     "name": "stdout",
     "output_type": "stream",
     "text": [
      "<class 'range'>\n",
      "<class 'range'>\n",
      "3\n",
      "5\n"
     ]
    }
   ],
   "source": [
    "range1 =range(1,11,2)\n",
    "\n",
    "print(type(range1))\n",
    "print(range1[1])\n",
    "print(len(range1))"
   ]
  },
  {
   "cell_type": "code",
   "execution_count": null,
   "metadata": {},
   "outputs": [
    {
     "name": "stdout",
     "output_type": "stream",
     "text": [
      "{'name': 'sugar', 'price': '260.00', 'weight': ' 1kg'}\n",
      "<class 'dict'>\n",
      "260.00\n",
      "{'name': 'sugar', 'price': 300.0, 'weight': ' 1kg'}\n"
     ]
    }
   ],
   "source": [
    "my_dic = {\n",
    "    \"name\":\"sugar\",\n",
    "    \"price\": \"200.00\",\n",
    "    \"weight\":\" 1kg\",\n",
    "    \"price\": \"260.00\"\n",
    "}\n",
    "print(my_dic)\n",
    "print(type(my_dic))\n",
    "print(my_dic[\"price\"])\n",
    "\n",
    "my_dic[\"price\"]=300.00\n",
    "print(my_dic)\n"
   ]
  },
  {
   "cell_type": "code",
   "execution_count": 39,
   "metadata": {},
   "outputs": [
    {
     "name": "stdout",
     "output_type": "stream",
     "text": [
      "200.00\n",
      "None\n",
      "2025.10.4\n",
      "{'name': 'sugar', 'price': 290.0, 'weight': '3kg'}\n",
      "{'name': 'sugar', 'price': 290.0, 'weight': '3kg', 'colour': 'white'}\n"
     ]
    }
   ],
   "source": [
    "my_list = {\n",
    "    \"name\":\"sugar\",\n",
    "    \"price\": \"200.00\",\n",
    "    \"weight\":\" 1kg\"\n",
    "}\n",
    "\n",
    "print(my_list.get(\"price\"))\n",
    "print(my_list.get(\"expire_date\"))\n",
    "print(my_list.get(\"expire_date\",\"2025.10.4\"))\n",
    "\n",
    "my_list.update({\"price\":290.00,\"weight\":\"3kg\"})\n",
    "print(my_list)\n",
    "\n",
    "my_list[\"colour\"]=\"white\"\n",
    "print(my_list)"
   ]
  },
  {
   "cell_type": "code",
   "execution_count": null,
   "metadata": {},
   "outputs": [
    {
     "name": "stdout",
     "output_type": "stream",
     "text": [
      "0\n"
     ]
    }
   ],
   "source": [
    "my_dic = {\n",
    "    \"name\":\"sugar\",\n",
    "    \"price\": \"200.00\",\n",
    "    \"weight\":\" 1kg\"\n",
    "}\n",
    "# my_dic.pop(\"weight\")\n",
    "# print(my_dic)\n",
    "\n",
    "# del my_dic[\"name\"]\n",
    "# print(my_dic)\n",
    " \n",
    "# del my_dic\n",
    "# print(my_dic)\n",
    "\n",
    "my_dic.clear()\n",
    "print(len(my_dic))\n"
   ]
  },
  {
   "cell_type": "code",
   "execution_count": 47,
   "metadata": {},
   "outputs": [
    {
     "name": "stdout",
     "output_type": "stream",
     "text": [
      "2\n",
      "12\n",
      "0\n"
     ]
    }
   ],
   "source": [
    "x,y=9,4\n",
    "print(x//y)\n",
    "\n",
    "x=7\n",
    "x+=5\n",
    "print(x)\n",
    "x=10\n",
    "x%=2\n",
    "print(x)"
   ]
  },
  {
   "cell_type": "code",
   "execution_count": null,
   "metadata": {},
   "outputs": [
    {
     "name": "stdout",
     "output_type": "stream",
     "text": [
      "False\n",
      "True\n"
     ]
    }
   ],
   "source": [
    "x=4\n",
    "y=5\n",
    "print(x==y)\n",
    "print(x!=y)\n",
    "\n"
   ]
  },
  {
   "cell_type": "code",
   "execution_count": 51,
   "metadata": {},
   "outputs": [
    {
     "name": "stdout",
     "output_type": "stream",
     "text": [
      "False\n"
     ]
    }
   ],
   "source": [
    "x=2\n",
    "c=4\n",
    "print(x<10 and c<1)"
   ]
  },
  {
   "cell_type": "code",
   "execution_count": 62,
   "metadata": {},
   "outputs": [
    {
     "name": "stdout",
     "output_type": "stream",
     "text": [
      "True\n"
     ]
    }
   ],
   "source": [
    "x=6\n",
    "y=6\n",
    "print(x is y)\n"
   ]
  },
  {
   "cell_type": "code",
   "execution_count": 63,
   "metadata": {},
   "outputs": [
    {
     "name": "stdout",
     "output_type": "stream",
     "text": [
      "True\n",
      "False\n"
     ]
    }
   ],
   "source": [
    "my = [12,2,4,56,8]\n",
    "print(2 in my)\n",
    "print(100 in my)"
   ]
  },
  {
   "cell_type": "code",
   "execution_count": 1,
   "metadata": {},
   "outputs": [
    {
     "name": "stdout",
     "output_type": "stream",
     "text": [
      "0\n",
      "15\n",
      "6\n"
     ]
    }
   ],
   "source": [
    "x=5\n",
    "y=10\n",
    "print(x & y)\n",
    "\n",
    "x=5\n",
    "y=10\n",
    "print(x | y)\n",
    "\n",
    "x=5\n",
    "y=3\n",
    "print(x^y)\n"
   ]
  },
  {
   "cell_type": "code",
   "execution_count": 5,
   "metadata": {},
   "outputs": [
    {
     "name": "stdout",
     "output_type": "stream",
     "text": [
      "hi\n"
     ]
    }
   ],
   "source": [
    "a=8\n",
    "if a>5:\n",
    "    print(\"hi\")\n",
    "else:\n",
    "    print(\"not\")\n",
    "\n"
   ]
  },
  {
   "cell_type": "code",
   "execution_count": 69,
   "metadata": {},
   "outputs": [
    {
     "name": "stdout",
     "output_type": "stream",
     "text": [
      "6\n",
      "<class 'str'>\n"
     ]
    }
   ],
   "source": [
    "x = input(\"enter new number :\")\n",
    "print(x)\n",
    "print(type(x))"
   ]
  },
  {
   "cell_type": "code",
   "execution_count": 77,
   "metadata": {},
   "outputs": [
    {
     "name": "stdout",
     "output_type": "stream",
     "text": [
      "odd number\n"
     ]
    }
   ],
   "source": [
    "y = input(\"enter number\")\n",
    "x = int(y)\n",
    "if (x%2 ==0) :\n",
    "    print(\"even  number\")\n",
    "else:\n",
    "    print(\"odd number\")"
   ]
  },
  {
   "cell_type": "code",
   "execution_count": 82,
   "metadata": {},
   "outputs": [
    {
     "name": "stdout",
     "output_type": "stream",
     "text": [
      "positive num\n",
      "not a multipart of 7\n"
     ]
    }
   ],
   "source": [
    "x = input(\"enter number\")\n",
    "y = int(x)\n",
    "if (y<0):\n",
    "    print(\"negative number\")\n",
    "if (y>0):\n",
    "    print(\"positive num\")\n",
    "    if (y%7 == 0) :\n",
    "        print(\"multipart of 7\")\n",
    "    else :\n",
    "        print(\"not a multipart of 7\")\n",
    "\n"
   ]
  },
  {
   "cell_type": "code",
   "execution_count": 83,
   "metadata": {},
   "outputs": [
    {
     "name": "stdout",
     "output_type": "stream",
     "text": [
      "x is greater than y\n"
     ]
    }
   ],
   "source": [
    "x=10\n",
    "y=2\n",
    "if x==y:\n",
    "    print(\"numbers are equlas\")\n",
    "elif x>y:\n",
    "    print(\"x is greater than y\")\n",
    "else :\n",
    "    print(\"x is less than y\")"
   ]
  },
  {
   "cell_type": "code",
   "execution_count": 94,
   "metadata": {},
   "outputs": [
    {
     "name": "stdout",
     "output_type": "stream",
     "text": [
      "D\n"
     ]
    }
   ],
   "source": [
    "x=input(\"enter marks\")\n",
    "marks = int(x)\n",
    "\n",
    "if marks<0 or marks>100  :\n",
    "    print(\"out of range\")\n",
    "elif marks >= 85 :\n",
    "    print(\"A\")\n",
    "elif marks >= 75 :\n",
    "    print(\"B\")\n",
    "elif  marks >= 65 :\n",
    "    print(\"C\")\n",
    "elif marks >= 50 :\n",
    "    print(\"D\")\n",
    "else :\n",
    "    print(\"F\")\n",
    "\n"
   ]
  },
  {
   "cell_type": "code",
   "execution_count": 95,
   "metadata": {},
   "outputs": [
    {
     "name": "stdout",
     "output_type": "stream",
     "text": [
      "even\n"
     ]
    }
   ],
   "source": [
    "x=220\n",
    "results =\"even\" if x%2 == 0 else \"odd\"\n",
    "print(results)"
   ]
  },
  {
   "cell_type": "code",
   "execution_count": 102,
   "metadata": {},
   "outputs": [
    {
     "data": {
      "text/plain": [
       "[4, 78, 8]"
      ]
     },
     "execution_count": 102,
     "metadata": {},
     "output_type": "execute_result"
    }
   ],
   "source": [
    "my_list=[2,3,4,5,78,5,8,32]\n",
    "# my_list[1:6]\n",
    "my_list[2:7:2]"
   ]
  },
  {
   "cell_type": "code",
   "execution_count": 103,
   "metadata": {},
   "outputs": [
    {
     "name": "stdout",
     "output_type": "stream",
     "text": [
      "{'a': 1, 'd': 4}\n"
     ]
    }
   ],
   "source": [
    "d1 ={\"a\":1}\n",
    "d2 ={\"d\":4}\n",
    "d3 = d1|d2\n",
    "print(d3)"
   ]
  },
  {
   "cell_type": "code",
   "execution_count": 104,
   "metadata": {},
   "outputs": [
    {
     "name": "stdout",
     "output_type": "stream",
     "text": [
      "12 23 56\n"
     ]
    }
   ],
   "source": [
    "my = [12,23,56]\n",
    "c,v,n =my\n",
    "print(c,v,n)"
   ]
  },
  {
   "cell_type": "code",
   "execution_count": 3,
   "metadata": {},
   "outputs": [
    {
     "name": "stdout",
     "output_type": "stream",
     "text": [
      "-6\n"
     ]
    }
   ],
   "source": [
    "x= 5\n",
    "print(~x)"
   ]
  }
 ],
 "metadata": {
  "kernelspec": {
   "display_name": "Python 3",
   "language": "python",
   "name": "python3"
  },
  "language_info": {
   "codemirror_mode": {
    "name": "ipython",
    "version": 3
   },
   "file_extension": ".py",
   "mimetype": "text/x-python",
   "name": "python",
   "nbconvert_exporter": "python",
   "pygments_lexer": "ipython3",
   "version": "3.13.0"
  }
 },
 "nbformat": 4,
 "nbformat_minor": 2
}
