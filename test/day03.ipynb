{
 "cells": [
  {
   "cell_type": "code",
   "execution_count": 2,
   "metadata": {},
   "outputs": [
    {
     "name": "stdout",
     "output_type": "stream",
     "text": [
      "not fount\n"
     ]
    }
   ],
   "source": [
    "response_code = 404\n",
    "\n",
    "match response_code:\n",
    "    case 200:\n",
    "        print(\"ok\")\n",
    "    case 201 :\n",
    "        print(\"created\")\n",
    "    case 404 :\n",
    "        print(\"not fount\")\n",
    "    case 500 :\n",
    "        print(\"internal server error\")\n",
    "    case _:\n",
    "        print(\"some thing else\")"
   ]
  },
  {
   "cell_type": "code",
   "execution_count": 5,
   "metadata": {},
   "outputs": [
    {
     "name": "stdout",
     "output_type": "stream",
     "text": [
      "48\n"
     ]
    }
   ],
   "source": [
    "numbers = [8,6]\n",
    "\n",
    "match numbers:\n",
    "    case[x,y]:\n",
    "        print(x*y)\n",
    "    case[x,y,z]:\n",
    "        print(x+y+z)\n",
    "    case _:\n",
    "        print(\"no\")\n"
   ]
  },
  {
   "cell_type": "code",
   "execution_count": 9,
   "metadata": {},
   "outputs": [
    {
     "name": "stdout",
     "output_type": "stream",
     "text": [
      "empty\n"
     ]
    }
   ],
   "source": [
    "list = []\n",
    "\n",
    "match list:\n",
    "    case[]:\n",
    "        print(\"empty\")\n",
    "    case[x]:\n",
    "        print(\"has one element\")\n",
    "    case[x,y]:\n",
    "        print(\"has two element\")\n",
    "    case _:\n",
    "        print(\"some thing else\")"
   ]
  },
  {
   "cell_type": "code",
   "execution_count": 10,
   "metadata": {},
   "outputs": [
    {
     "name": "stdout",
     "output_type": "stream",
     "text": [
      "apple\n",
      "banana\n",
      "orange\n"
     ]
    }
   ],
   "source": [
    "fruits = [\"apple\",\"banana\",\"orange\"]\n",
    "for item in fruits:\n",
    "    print(item)"
   ]
  },
  {
   "cell_type": "code",
   "execution_count": 16,
   "metadata": {},
   "outputs": [
    {
     "name": "stdout",
     "output_type": "stream",
     "text": [
      "[49, 25, 64, 16, 81, 144]\n"
     ]
    }
   ],
   "source": [
    "sq_num =[]\n",
    "numbers = [7,5,8,4,9,12]\n",
    "\n",
    "for i in numbers:\n",
    "    sq_num.append(i*i)\n",
    "print(sq_num)\n"
   ]
  },
  {
   "cell_type": "code",
   "execution_count": null,
   "metadata": {},
   "outputs": [
    {
     "name": "stdout",
     "output_type": "stream",
     "text": [
      "[1, 4, 9, 16, 25, 36, 49, 64, 81, 100, 121, 144, 169, 196, 225, 256, 289, 324, 361, 400, 441, 484, 529, 576, 625, 676, 729, 784, 841, 900, 961, 1024, 1089, 1156, 1225, 1296, 1369, 1444, 1521, 1600, 1681, 1764, 1849, 1936, 2025, 2116, 2209, 2304, 2401, 2500]\n"
     ]
    }
   ],
   "source": [
    "\n",
    "x = int(input(\"enter number\"))\n",
    "sq_num = []\n",
    "\n",
    "for num in range(1,x+1):\n",
    "    sq_num.append(num*num)\n",
    "\n",
    "print(sq_num)\n"
   ]
  },
  {
   "cell_type": "code",
   "execution_count": 27,
   "metadata": {},
   "outputs": [
    {
     "name": "stdout",
     "output_type": "stream",
     "text": [
      "[4, 144, 81, 64]\n"
     ]
    }
   ],
   "source": [
    "numbers = [2,12,9,8]\n",
    "\n",
    "result = [ num*num for num in numbers ]\n",
    "print(result)"
   ]
  },
  {
   "cell_type": "code",
   "execution_count": 36,
   "metadata": {},
   "outputs": [
    {
     "name": "stdout",
     "output_type": "stream",
     "text": [
      "[64, 144, 25, 16]\n"
     ]
    }
   ],
   "source": [
    "numbers = [8,12,-1,5,4,0,-3]\n",
    "\n",
    "result = [num*num for num in numbers if num>0]\n",
    "print(result)\n",
    "\n"
   ]
  },
  {
   "cell_type": "code",
   "execution_count": null,
   "metadata": {},
   "outputs": [
    {
     "name": "stdout",
     "output_type": "stream",
     "text": [
      "[1, 4, 9, 16]\n"
     ]
    }
   ],
   "source": [
    "\n",
    "count =1\n",
    "num = int(input(\"enter number\"))\n",
    "sq = []\n",
    "temp = 1\n",
    "while temp <= num:\n",
    "    sq.append(temp)\n",
    "\n",
    "    count +=1\n",
    "    temp = count *count\n",
    "    \n",
    "print(sq)\n",
    " "
   ]
  },
  {
   "cell_type": "code",
   "execution_count": 52,
   "metadata": {},
   "outputs": [
    {
     "name": "stdout",
     "output_type": "stream",
     "text": [
      "2\n",
      "4\n",
      "5\n"
     ]
    }
   ],
   "source": [
    "my_list =[2,4,5,0,6,7,12,5,]\n",
    "for item in my_list:\n",
    "    if item == 0:\n",
    "        break\n",
    "    else :\n",
    "        print(item)"
   ]
  },
  {
   "cell_type": "code",
   "execution_count": null,
   "metadata": {},
   "outputs": [
    {
     "name": "stdout",
     "output_type": "stream",
     "text": [
      "2\n",
      "4\n",
      "5\n",
      "6\n",
      "7\n",
      "12\n",
      "5\n"
     ]
    }
   ],
   "source": [
    "my_list =[2,4,5,0,6,7,12,5,]\n",
    "for item in my_list:\n",
    "    if item == 0:\n",
    "        continue\n",
    "    else :\n",
    "        print(item)"
   ]
  },
  {
   "cell_type": "code",
   "execution_count": 6,
   "metadata": {},
   "outputs": [
    {
     "name": "stdout",
     "output_type": "stream",
     "text": [
      "49\n",
      "49\n",
      "64\n"
     ]
    }
   ],
   "source": [
    "\n",
    "while True :\n",
    "    x = int(input(\"enter number\"))\n",
    "    if x ==0 :\n",
    "        break\n",
    "    else :\n",
    "        print(x*x)\n",
    "    \n",
    "    "
   ]
  },
  {
   "cell_type": "code",
   "execution_count": null,
   "metadata": {},
   "outputs": [
    {
     "name": "stdout",
     "output_type": "stream",
     "text": [
      "name nima\n",
      "age 23\n",
      "gender male\n",
      "name\n",
      "age\n",
      "gender\n",
      "nima\n",
      "23\n",
      "male\n"
     ]
    }
   ],
   "source": [
    "person = {\n",
    "    \"name\" :\"nima\",\n",
    "    \"age\":23,\n",
    "    \"gender\":\"male\"\n",
    "}\n",
    "for key,value in person.items():\n",
    "    print(key,value)\n",
    "\n",
    "for key in person.keys():\n",
    "    print(key)\n",
    "\n",
    "for value in person.values():\n",
    "    print(value)"
   ]
  },
  {
   "cell_type": "code",
   "execution_count": 9,
   "metadata": {},
   "outputs": [
    {
     "data": {
      "text/plain": [
       "50"
      ]
     },
     "execution_count": 9,
     "metadata": {},
     "output_type": "execute_result"
    }
   ],
   "source": [
    "def calculate_circumforance(width,length):\n",
    "     \n",
    "     circumforance = (width+length)*2\n",
    "     return circumforance\n",
    "\n",
    "calculate_circumforance(10,15)"
   ]
  },
  {
   "cell_type": "code",
   "execution_count": 11,
   "metadata": {},
   "outputs": [
    {
     "data": {
      "text/plain": [
       "28.26"
      ]
     },
     "execution_count": 11,
     "metadata": {},
     "output_type": "execute_result"
    }
   ],
   "source": [
    "PI_VALUE =3.14\n",
    "\n",
    "def area_of_cricle(radius):\n",
    "    area_of_cricle = (PI_VALUE*radius**2)\n",
    "    return  area_of_cricle \n",
    "\n",
    "area_of_cricle(3)\n"
   ]
  },
  {
   "cell_type": "code",
   "execution_count": 12,
   "metadata": {},
   "outputs": [
    {
     "name": "stdout",
     "output_type": "stream",
     "text": [
      "8\n"
     ]
    }
   ],
   "source": [
    "def add_numbers(a,b):\n",
    "    return a+b\n",
    "print(add_numbers(b=3,a=5))"
   ]
  },
  {
   "cell_type": "code",
   "execution_count": null,
   "metadata": {},
   "outputs": [
    {
     "data": {
      "text/plain": [
       "'def calculate_cost(price,quantity,discount=0,tax=0):\\n    total = price*quantity\\n\\n    discount_price=total-(total * discount)/100\\n\\n    tax_amount=discount_price+tax/100\\n    sub_total = discount_price+tax_amount\\n\\n    return sub_total\\ncalculate_cost(price=200,quantity=3)'"
      ]
     },
     "execution_count": 26,
     "metadata": {},
     "output_type": "execute_result"
    }
   ],
   "source": [
    "'''\n",
    "def calculate_cost(price,quantity,discount=0,tax=0):\n",
    "    total = price*quantity\n",
    "\n",
    "    discount_price=total-(total * discount)/100\n",
    "\n",
    "    tax_amount=discount_price+tax/100\n",
    "    sub_total = discount_price+tax_amount\n",
    "\n",
    "    return sub_total\n",
    "calculate_cost(price=200,quantity=3)\n",
    "'''\n",
    "#mutiline comments\n",
    "    "
   ]
  },
  {
   "cell_type": "code",
   "execution_count": 25,
   "metadata": {},
   "outputs": [
    {
     "name": "stdout",
     "output_type": "stream",
     "text": [
      "I love computer science,\n",
      "            I study of IJSE,\n",
      "            I live in Galle. \n"
     ]
    }
   ],
   "source": [
    "my_str = '''I love computer science,\n",
    "            I study of IJSE,\n",
    "            I live in Galle. '''\n",
    "print(my_str)"
   ]
  },
  {
   "cell_type": "code",
   "execution_count": 31,
   "metadata": {},
   "outputs": [
    {
     "name": "stdout",
     "output_type": "stream",
     "text": [
      "11\n",
      "o\n",
      "llo wo\n",
      "HELLO WORLD\n",
      "hello world\n"
     ]
    }
   ],
   "source": [
    "my_str =\"hello world\"\n",
    "print(len(my_str))\n",
    "print(my_str[4])\n",
    "print(my_str[2:8])\n",
    "print(my_str.upper())\n",
    "print(my_str.lower())"
   ]
  },
  {
   "cell_type": "code",
   "execution_count": null,
   "metadata": {},
   "outputs": [
    {
     "name": "stdout",
     "output_type": "stream",
     "text": [
      "-   hello world  \n",
      "-   hello world  \n"
     ]
    }
   ],
   "source": [
    "my_str=\"   hello world  \"\n",
    "print(my_str)\n",
    "my_str.strip()\n",
    "print(my_str)"
   ]
  }
 ],
 "metadata": {
  "kernelspec": {
   "display_name": "Python 3",
   "language": "python",
   "name": "python3"
  },
  "language_info": {
   "codemirror_mode": {
    "name": "ipython",
    "version": 3
   },
   "file_extension": ".py",
   "mimetype": "text/x-python",
   "name": "python",
   "nbconvert_exporter": "python",
   "pygments_lexer": "ipython3",
   "version": "3.13.0"
  }
 },
 "nbformat": 4,
 "nbformat_minor": 2
}
