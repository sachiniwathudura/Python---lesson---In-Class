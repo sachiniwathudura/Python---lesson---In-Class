{
 "cells": [
  {
   "cell_type": "code",
   "execution_count": 3,
   "metadata": {},
   "outputs": [
    {
     "name": "stdout",
     "output_type": "stream",
     "text": [
      "hello\n"
     ]
    }
   ],
   "source": [
    "print(\"hello\")"
   ]
  },
  {
   "cell_type": "code",
   "execution_count": null,
   "metadata": {},
   "outputs": [
    {
     "name": "stdout",
     "output_type": "stream",
     "text": [
      "10\n",
      "<class 'int'>\n",
      "10 <class 'int'>\n"
     ]
    }
   ],
   "source": [
    "a = 10\n",
    "print(a)\n",
    "print(type(a))\n",
    "print(a,type(a))"
   ]
  },
  {
   "cell_type": "code",
   "execution_count": 9,
   "metadata": {},
   "outputs": [
    {
     "name": "stdout",
     "output_type": "stream",
     "text": [
      "The type of variable having value 10 is <class 'int'>\n"
     ]
    }
   ],
   "source": [
    "a=10\n",
    "print(\"The type of variable having value\" ,a ,\"is\" ,type(a))"
   ]
  },
  {
   "cell_type": "code",
   "execution_count": 10,
   "metadata": {},
   "outputs": [
    {
     "name": "stdout",
     "output_type": "stream",
     "text": [
      "25000.0 <class 'float'>\n"
     ]
    }
   ],
   "source": [
    "a=2.5e4\n",
    "print(a,type(a))"
   ]
  },
  {
   "cell_type": "code",
   "execution_count": 12,
   "metadata": {},
   "outputs": [
    {
     "name": "stdout",
     "output_type": "stream",
     "text": [
      "5.0 <class 'float'>\n",
      "7 <class 'int'>\n"
     ]
    }
   ],
   "source": [
    "a=5\n",
    "b=float(a)\n",
    "print(b,type(b))\n",
    "c =7.0\n",
    "d =int(c)\n",
    "print(d,type(d))"
   ]
  },
  {
   "cell_type": "code",
   "execution_count": 27,
   "metadata": {},
   "outputs": [
    {
     "name": "stdout",
     "output_type": "stream",
     "text": [
      "[10, 6, 3, 80, 3, 'cst', True] <class 'list'>\n",
      "3\n",
      "[6, 3] <class 'list'>\n",
      "[10, 6, 3] <class 'list'>\n"
     ]
    }
   ],
   "source": [
    "my_list = [10,6,3,80,3,\"cst\",True]\n",
    "print(my_list,type(my_list))\n",
    "print(my_list[2])\n",
    "\n",
    "# my_list[1] = \"dog\"\n",
    "# print(my_list)\n",
    "# print(len(my_list))\n",
    "# print(my_list[-1])\n",
    "# print(my_list[-3])\n",
    "print(my_list[1:3],type(my_list[1:3]))\n",
    "print(my_list[:3],type(my_list[:3]))"
   ]
  },
  {
   "cell_type": "code",
   "execution_count": 36,
   "metadata": {},
   "outputs": [
    {
     "name": "stdout",
     "output_type": "stream",
     "text": [
      "[10, 5, 'cat', 'dog', True, 3, 2, 43, 23, 11, 32]\n",
      "[10, 5, 'dog', True, 3, 2, 43, 23, 11, 32] 10\n",
      "[10, 5, True, 3, 2, 43, 23, 11, 32] 9\n",
      "[] 0\n"
     ]
    }
   ],
   "source": [
    "my_list=[10,5,\"cat\",\"dog\",True]\n",
    "\n",
    "# my_list[1:3]=[\"parrot\",17]\n",
    "# print(my_list)\n",
    "\n",
    "# my_list.insert(2,\"rat\")\n",
    "# print(my_list,len(my_list))\n",
    "\n",
    "my_list_1 =[3,2,43,23,11,32]\n",
    "my_list.extend(my_list_1)\n",
    "print(my_list)\n",
    "\n",
    "my_list.pop(2)\n",
    "print(my_list,len(my_list))\n",
    "\n",
    "del my_list[2]\n",
    "print(my_list,len(my_list))\n",
    "\n",
    "#del my_list\n",
    "#print(my_list,len(my_list))#destory wela yna nis  me print ekn error ekk eno not defined kiyla\n",
    "\n",
    "my_list.clear()\n",
    "print(my_list,len(my_list))\n"
   ]
  },
  {
   "cell_type": "code",
   "execution_count": 52,
   "metadata": {},
   "outputs": [
    {
     "name": "stdout",
     "output_type": "stream",
     "text": [
      "['apple', 'banana', 'Grapes', 'orange']\n"
     ]
    }
   ],
   "source": [
    "my_list=[\"apple\",\"orange\",\"banana\",\"Grapes\"]\n",
    "my_list.sort(key=str.lower)\n",
    "print(my_list)"
   ]
  },
  {
   "cell_type": "code",
   "execution_count": 54,
   "metadata": {},
   "outputs": [
    {
     "name": "stdout",
     "output_type": "stream",
     "text": [
      "[25, 10, 8, 5, 3]\n"
     ]
    }
   ],
   "source": [
    "my_list=[5,3,10,25,8]\n",
    "my_list.sort(reverse=True)\n",
    "print(my_list)\n"
   ]
  },
  {
   "cell_type": "code",
   "execution_count": null,
   "metadata": {},
   "outputs": [
    {
     "name": "stdout",
     "output_type": "stream",
     "text": [
      "[12, 10, 13, 4, 1, 5, 6, 1, 7, 8, 10]\n",
      "6.0\n",
      "6\n",
      "7\n",
      "3.0\n",
      "3\n",
      "4\n",
      "9.0\n",
      "9\n",
      "10\n"
     ]
    }
   ],
   "source": [
    "my_list_1 = [12,10,13,4,1,5]\n",
    "my_list_2 = [6,1,7,8,10]\n",
    "\n",
    "my_list_1.extend(my_list_2)\n",
    "print(my_list_1)\n",
    "\n",
    "my_list_1.sort()\n",
    "\n",
    "# Find the median\n",
    "n = (len(my_list_1)+1)/2\n",
    "print(n)\n",
    "n = int(n)\n",
    "print(n)\n",
    "median = my_list_1[n-1]\n",
    "print(median)  \n",
    "\n",
    "position_of_q1= (len(my_list_1)+1)/4\n",
    "print(position_of_q1)\n",
    "position_of_q1 = int(position_of_q1)\n",
    "print(position_of_q1)\n",
    "value_of_q1= my_list_1[position_of_q1-1]\n",
    "print(value_of_q1)\n",
    "\n",
    "position_of_q3= (len(my_list_1)+1)*3/4\n",
    "print(position_of_q3)\n",
    "position_of_q3 = int(position_of_q3)\n",
    "print(position_of_q3)\n",
    "value_of_q3= my_list_1[position_of_q3-1]\n",
    "print(value_of_q3)\n",
    "\n",
    "\n"
   ]
  }
 ],
 "metadata": {
  "kernelspec": {
   "display_name": "Python 3",
   "language": "python",
   "name": "python3"
  },
  "language_info": {
   "codemirror_mode": {
    "name": "ipython",
    "version": 3
   },
   "file_extension": ".py",
   "mimetype": "text/x-python",
   "name": "python",
   "nbconvert_exporter": "python",
   "pygments_lexer": "ipython3",
   "version": "3.13.0"
  }
 },
 "nbformat": 4,
 "nbformat_minor": 2
}
