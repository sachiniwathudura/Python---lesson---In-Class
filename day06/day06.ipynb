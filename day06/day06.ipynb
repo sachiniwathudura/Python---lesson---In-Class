{
 "cells": [
  {
   "cell_type": "code",
   "execution_count": 3,
   "metadata": {},
   "outputs": [
    {
     "name": "stdout",
     "output_type": "stream",
     "text": [
      "['I love programming.\\n', 'hello world.\\n'] <class 'list'>\n"
     ]
    }
   ],
   "source": [
    "file_1 = open(\"my_file.txt\" ,'r')\n",
    "# content = file_1.read()\n",
    "# content = file_1.readline()\n",
    "content = file_1.readlines()\n",
    "print(content,type(content))\n",
    "file_1.close()"
   ]
  },
  {
   "cell_type": "code",
   "execution_count": 1,
   "metadata": {},
   "outputs": [
    {
     "name": "stdout",
     "output_type": "stream",
     "text": [
      "I love programming.\n",
      "hello world.\n",
      "\n"
     ]
    }
   ],
   "source": [
    "with open(\"my_file.txt\",'r') as file:\n",
    "    content = file.read()\n",
    "    print(content)"
   ]
  },
  {
   "cell_type": "code",
   "execution_count": 6,
   "metadata": {},
   "outputs": [],
   "source": [
    "with open(\"my_fie_1.txt\",'w') as file:\n",
    "    file.write(\"this is good.\\n\")\n",
    "    file.write(\"programming is run\")"
   ]
  },
  {
   "cell_type": "markdown",
   "metadata": {},
   "source": [
    "simple contact managemnt system\n",
    "1.requiremnets\n",
    "cretae a programm that store and manage contacts,\n",
    "in a file name contact.txt, each contact entry should have name phone number and email.\n",
    "2.feature to inplement\n",
    "view all contacts : read and display all contacts from the file\n",
    "add the new contact : append the contact to the file\n",
    "3.exit the program\n",
    "\n",
    "structure of contact.txt\n",
    "John Doe,12345678,jone@gmail.com\n",
    "kate ferry,1235678,kate@gmail.com"
   ]
  },
  {
   "cell_type": "code",
   "execution_count": null,
   "metadata": {},
   "outputs": [],
   "source": [
    "while True :\n",
    "    print(\"enter 1 for view all contacts\")\n",
    "    print(\"enter 2 for adding new contact\")\n",
    "    print(\"enter 3 for exsit\")\n",
    "\n",
    "    choice = input(\"enter your preference\")\n",
    "    if choice ==\"1\":\n",
    "        get_all_contacts()\n",
    "    elif choice ==\"2\":\n",
    "        add_new_contact()\n",
    "    elif choice == \"3\":\n",
    "        print(\"exiting from the prongram\")\n",
    "        break\n",
    "    else:\n",
    "        print(\"invalid input\")\n",
    "\n",
    "    def get_all_contacts():\n",
    "        with open(\"contact.txt\" ,'r') as file:\n",
    "            content = file.readlines()\n",
    "            for contact in content:\n",
    "                print(contact)\n",
    "    \n",
    "    def add_new_contact():\n",
    "        name = input(\"enter name :\" )\n",
    "        phone = input(\"enter phone :\")\n",
    "        email = input(\"enetr phone :\")\n",
    "\n",
    "        with open(\"contact.txt\" ,'a') as file:\n",
    "            new_contact = name + \",\" + phone + \",\" + email + \"\\n\"\n",
    "            file.write(new_contact)\n",
    "\n",
    "\n"
   ]
  },
  {
   "cell_type": "code",
   "execution_count": 14,
   "metadata": {},
   "outputs": [],
   "source": [
    "with open(\"my_fie_1.txt\",'w') as file:\n",
    "    file.writelines([\"this is wrielines.\\n\",\"this is programming\"])\n",
    "    "
   ]
  },
  {
   "cell_type": "code",
   "execution_count": 31,
   "metadata": {},
   "outputs": [
    {
     "name": "stdout",
     "output_type": "stream",
     "text": [
      "{'fruit': 'Apple', 'size': 'Large', 'color': 'Red'} <class 'dict'>\n",
      "fruit Apple\n",
      "size Large\n",
      "color Red\n"
     ]
    }
   ],
   "source": [
    "import json\n",
    "\n",
    "json_file = 'example_1.json'\n",
    "\n",
    "with open(json_file , 'r') as file:\n",
    "    data = json.load(file)\n",
    "\n",
    "print(data,type(data))\n",
    "\n",
    "for key,value in data.items():\n",
    "    print(key,value)"
   ]
  },
  {
   "cell_type": "code",
   "execution_count": 34,
   "metadata": {},
   "outputs": [],
   "source": [
    "import json\n",
    "\n",
    "data = {\n",
    "    \"name\":\"sachini\",\n",
    "    \"age\": 23,\n",
    "    \"email\":\"sachini@gmail.com\"\n",
    "}\n",
    "json_file = 'my_json_1.json'\n",
    "\n",
    "with open(\"my_json_1.json\" , 'w') as file:\n",
    "    json_data = json.dumps(data , indent=4)\n",
    "\n",
    "    file.write(json_data)"
   ]
  },
  {
   "cell_type": "markdown",
   "metadata": {},
   "source": [
    "you are given a json file name students.jsonwith contaians about information about students and there grades. your task is to \n",
    "1. read the json file\n",
    "2. display the name of the all students who scord above 75\n",
    "3. add the new stdent record to the file\n",
    "4. save the updated data back to the json file"
   ]
  },
  {
   "cell_type": "code",
   "execution_count": 54,
   "metadata": {},
   "outputs": [
    {
     "name": "stdout",
     "output_type": "stream",
     "text": [
      "[{'name': 'alice', 'grade': 85}, {'name': 'bob', 'grade': 72}, {'name': 'charlie', 'grade': 90}, {'name': 'david', 'grade': 65}]\n",
      "alice\n",
      "charlie\n"
     ]
    }
   ],
   "source": [
    "import json\n",
    "\n",
    "json_file_path = 'students.json'\n",
    "with open(json_file_path , 'r') as file:\n",
    "    data = json.load(file)\n",
    "print(data)\n",
    "    \n",
    "for record in data:\n",
    "     if record [\"grade\"]>75:\n",
    "          print(record[\"name\"])\n",
    "\n",
    "##\n",
    "def add_new_student():\n",
    "        name = input(\"enter name :\" )\n",
    "        grade = input(\"enter grade :\")\n",
    "        \n",
    "        new_record = {\"name\":name,\"grade\":grade}\n",
    "        data.append(new_record)\n",
    "        with open(\"students.json\" ,'w') as file:\n",
    "            content = json.dumps(data,indent=4)\n",
    "            file.write(content)\n",
    "add_new_student()\n",
    "\n"
   ]
  },
  {
   "cell_type": "code",
   "execution_count": 60,
   "metadata": {},
   "outputs": [
    {
     "name": "stdout",
     "output_type": "stream",
     "text": [
      "<csv.DictReader object at 0x0000029D7BD45A90> <class 'csv.DictReader'>\n",
      "{'Index': '1', 'Customer Id': 'DD37Cf93aecA6Dc', 'First Name': 'Sheryl', 'Last Name': 'Baxter', 'Company': 'Rasmussen Group', 'City': 'East Leonard', 'Country': 'Chile', 'Phone 1': '229.077.5154', 'Phone 2': '397.884.0519x718', 'Email': 'zunigavanessa@smith.info', 'Subscription Date': '2020-08-24', 'Website': 'http://www.stephenson.com/'} <class 'dict'>\n",
      "{'Index': '2', 'Customer Id': '1Ef7b82A4CAAD10', 'First Name': 'Preston', 'Last Name': 'Lozano', 'Company': 'Vega-Gentry', 'City': 'East Jimmychester', 'Country': 'Djibouti', 'Phone 1': '5153435776', 'Phone 2': '686-620-1820x944', 'Email': 'vmata@colon.com', 'Subscription Date': '2021-04-23', 'Website': 'http://www.hobbs.com/'} <class 'dict'>\n",
      "{'Index': '3', 'Customer Id': '6F94879bDAfE5a6', 'First Name': 'Roy', 'Last Name': 'Berry', 'Company': 'Murillo-Perry', 'City': 'Isabelborough', 'Country': 'Antigua and Barbuda', 'Phone 1': '+1-539-402-0259', 'Phone 2': '(496)978-3969x58947', 'Email': 'beckycarr@hogan.com', 'Subscription Date': '2020-03-25', 'Website': 'http://www.lawrence.com/'} <class 'dict'>\n",
      "{'Index': '4', 'Customer Id': '5Cef8BFA16c5e3c', 'First Name': 'Linda', 'Last Name': 'Olsen', 'Company': 'Dominguez, Mcmillan and Donovan', 'City': 'Bensonview', 'Country': 'Dominican Republic', 'Phone 1': '001-808-617-6467x12895', 'Phone 2': '+1-813-324-8756', 'Email': 'stanleyblackwell@benson.org', 'Subscription Date': '2020-06-02', 'Website': 'http://www.good-lyons.com/'} <class 'dict'>\n",
      "{'Index': '5', 'Customer Id': '053d585Ab6b3159', 'First Name': 'Joanna', 'Last Name': 'Bender', 'Company': 'Martin, Lang and Andrade', 'City': 'West Priscilla', 'Country': 'Slovakia (Slovak Republic)', 'Phone 1': '001-234-203-0635x76146', 'Phone 2': '001-199-446-3860x3486', 'Email': 'colinalvarado@miles.net', 'Subscription Date': '2021-04-17', 'Website': 'https://goodwin-ingram.com/'} <class 'dict'>\n",
      "{'Index': '6', 'Customer Id': '2d08FB17EE273F4', 'First Name': 'Aimee', 'Last Name': 'Downs', 'Company': 'Steele Group', 'City': 'Chavezborough', 'Country': 'Bosnia and Herzegovina', 'Phone 1': '(283)437-3886x88321', 'Phone 2': '999-728-1637', 'Email': 'louis27@gilbert.com', 'Subscription Date': '2020-02-25', 'Website': 'http://www.berger.net/'} <class 'dict'>\n",
      "{'Index': '7', 'Customer Id': 'EA4d384DfDbBf77', 'First Name': 'Darren', 'Last Name': 'Peck', 'Company': 'Lester, Woodard and Mitchell', 'City': 'Lake Ana', 'Country': 'Pitcairn Islands', 'Phone 1': '(496)452-6181x3291', 'Phone 2': '+1-247-266-0963x4995', 'Email': 'tgates@cantrell.com', 'Subscription Date': '2021-08-24', 'Website': 'https://www.le.com/'} <class 'dict'>\n",
      "{'Index': '8', 'Customer Id': '0e04AFde9f225dE', 'First Name': 'Brett', 'Last Name': 'Mullen', 'Company': 'Sanford, Davenport and Giles', 'City': 'Kimport', 'Country': 'Bulgaria', 'Phone 1': '001-583-352-7197x297', 'Phone 2': '001-333-145-0369', 'Email': 'asnow@colon.com', 'Subscription Date': '2021-04-12', 'Website': 'https://hammond-ramsey.com/'} <class 'dict'>\n",
      "{'Index': '9', 'Customer Id': 'C2dE4dEEc489ae0', 'First Name': 'Sheryl', 'Last Name': 'Meyers', 'Company': 'Browning-Simon', 'City': 'Robersonstad', 'Country': 'Cyprus', 'Phone 1': '854-138-4911x5772', 'Phone 2': '+1-448-910-2276x729', 'Email': 'mariokhan@ryan-pope.org', 'Subscription Date': '2020-01-13', 'Website': 'https://www.bullock.net/'} <class 'dict'>\n",
      "{'Index': '10', 'Customer Id': '8C2811a503C7c5a', 'First Name': 'Michelle', 'Last Name': 'Gallagher', 'Company': 'Beck-Hendrix', 'City': 'Elaineberg', 'Country': 'Timor-Leste', 'Phone 1': '739.218.2516x459', 'Phone 2': '001-054-401-0347x617', 'Email': 'mdyer@escobar.net', 'Subscription Date': '2021-11-08', 'Website': 'https://arias.com/'} <class 'dict'>\n",
      "{'Index': '11', 'Customer Id': '216E205d6eBb815', 'First Name': 'Carl', 'Last Name': 'Schroeder', 'Company': 'Oconnell, Meza and Everett', 'City': 'Shannonville', 'Country': 'Guernsey', 'Phone 1': '637-854-0256x825', 'Phone 2': '114.336.0784x788', 'Email': 'kirksalas@webb.com', 'Subscription Date': '2021-10-20', 'Website': 'https://simmons-hurley.com/'} <class 'dict'>\n",
      "{'Index': '12', 'Customer Id': 'CEDec94deE6d69B', 'First Name': 'Jenna', 'Last Name': 'Dodson', 'Company': 'Hoffman, Reed and Mcclain', 'City': 'East Andrea', 'Country': 'Vietnam', 'Phone 1': '(041)737-3846', 'Phone 2': '+1-556-888-3485x42608', 'Email': 'mark42@robbins.com', 'Subscription Date': '2020-11-29', 'Website': 'http://www.douglas.net/'} <class 'dict'>\n",
      "{'Index': '13', 'Customer Id': 'e35426EbDEceaFF', 'First Name': 'Tracey', 'Last Name': 'Mata', 'Company': 'Graham-Francis', 'City': 'South Joannamouth', 'Country': 'Togo', 'Phone 1': '001-949-844-8787', 'Phone 2': '(855)713-8773', 'Email': 'alex56@walls.org', 'Subscription Date': '2021-12-02', 'Website': 'http://www.beck.com/'} <class 'dict'>\n",
      "{'Index': '14', 'Customer Id': 'A08A8aF8BE9FaD4', 'First Name': 'Kristine', 'Last Name': 'Cox', 'Company': 'Carpenter-Cook', 'City': 'Jodyberg', 'Country': 'Sri Lanka', 'Phone 1': '786-284-3358x62152', 'Phone 2': '+1-315-627-1796x8074', 'Email': 'holdenmiranda@clarke.com', 'Subscription Date': '2021-02-08', 'Website': 'https://www.brandt.com/'} <class 'dict'>\n",
      "{'Index': '15', 'Customer Id': '6fEaA1b7cab7B6C', 'First Name': 'Faith', 'Last Name': 'Lutz', 'Company': 'Carter-Hancock', 'City': 'Burchbury', 'Country': 'Singapore', 'Phone 1': '(781)861-7180x8306', 'Phone 2': '207-185-3665', 'Email': 'cassieparrish@blevins-chapman.net', 'Subscription Date': '2022-01-26', 'Website': 'http://stevenson.org/'} <class 'dict'>\n",
      "{'Index': '16', 'Customer Id': '8cad0b4CBceaeec', 'First Name': 'Miranda', 'Last Name': 'Beasley', 'Company': 'Singleton and Sons', 'City': 'Desireeshire', 'Country': 'Oman', 'Phone 1': '540.085.3135x185', 'Phone 2': '+1-600-462-6432x21881', 'Email': 'vduncan@parks-hardy.com', 'Subscription Date': '2022-04-12', 'Website': 'http://acosta.org/'} <class 'dict'>\n",
      "{'Index': '17', 'Customer Id': 'a5DC21AE3a21eaA', 'First Name': 'Caroline', 'Last Name': 'Foley', 'Company': 'Winters-Mendoza', 'City': 'West Adriennestad', 'Country': 'Western Sahara', 'Phone 1': '936.222.4746x9924', 'Phone 2': '001-469-948-6341x359', 'Email': 'holtgwendolyn@watson-davenport.com', 'Subscription Date': '2021-03-10', 'Website': 'http://www.benson-roth.com/'} <class 'dict'>\n",
      "{'Index': '18', 'Customer Id': 'F8Aa9d6DfcBeeF8', 'First Name': 'Greg', 'Last Name': 'Mata', 'Company': 'Valentine LLC', 'City': 'Lake Leslie', 'Country': 'Mozambique', 'Phone 1': '(701)087-2415', 'Phone 2': '(195)156-1861x26241', 'Email': 'jaredjuarez@carroll.org', 'Subscription Date': '2022-03-26', 'Website': 'http://pitts-cherry.com/'} <class 'dict'>\n",
      "{'Index': '19', 'Customer Id': 'F160f5Db3EfE973', 'First Name': 'Clifford', 'Last Name': 'Jacobson', 'Company': 'Simon LLC', 'City': 'Harmonview', 'Country': 'South Georgia and the South Sandwich Islands', 'Phone 1': '001-151-330-3524x0469', 'Phone 2': '(748)477-7174', 'Email': 'joseph26@jacobson.com', 'Subscription Date': '2020-09-24', 'Website': 'https://mcconnell.com/'} <class 'dict'>\n",
      "{'Index': '20', 'Customer Id': '0F60FF3DdCd7aB0', 'First Name': 'Joanna', 'Last Name': 'Kirk', 'Company': 'Mays-Mccormick', 'City': 'Jamesshire', 'Country': 'French Polynesia', 'Phone 1': '(266)131-7001x711', 'Phone 2': '(283)312-5579x11543', 'Email': 'tuckerangie@salazar.net', 'Subscription Date': '2021-09-24', 'Website': 'https://www.camacho.net/'} <class 'dict'>\n",
      "{'Index': '21', 'Customer Id': '9F9AdB7B8A6f7F2', 'First Name': 'Maxwell', 'Last Name': 'Frye', 'Company': 'Patterson Inc', 'City': 'East Carly', 'Country': 'Malta', 'Phone 1': '423.262.3059', 'Phone 2': '202-880-0688x7491', 'Email': 'fgibson@drake-webb.com', 'Subscription Date': '2022-01-12', 'Website': 'http://www.roberts.com/'} <class 'dict'>\n",
      "{'Index': '22', 'Customer Id': 'FBd0Ded4F02a742', 'First Name': 'Kiara', 'Last Name': 'Houston', 'Company': 'Manning, Hester and Arroyo', 'City': 'South Alvin', 'Country': 'Netherlands', 'Phone 1': '001-274-040-3582x10611', 'Phone 2': '+1-528-175-0973x4684', 'Email': 'blanchardbob@wallace-shannon.com', 'Subscription Date': '2020-09-15', 'Website': 'https://www.reid-potts.com/'} <class 'dict'>\n",
      "{'Index': '23', 'Customer Id': '2FB0FAA1d429421', 'First Name': 'Colleen', 'Last Name': 'Howard', 'Company': 'Greer and Sons', 'City': 'Brittanyview', 'Country': 'Paraguay', 'Phone 1': '1935085151', 'Phone 2': '(947)115-7711x5488', 'Email': 'rsingleton@ryan-cherry.com', 'Subscription Date': '2020-08-19', 'Website': 'http://paul.biz/'} <class 'dict'>\n",
      "{'Index': '24', 'Customer Id': '010468dAA11382c', 'First Name': 'Janet', 'Last Name': 'Valenzuela', 'Company': 'Watts-Donaldson', 'City': 'Veronicamouth', 'Country': \"Lao People's Democratic Republic\", 'Phone 1': '354.259.5062x7538', 'Phone 2': '500.433.2022', 'Email': 'stefanie71@spence.com', 'Subscription Date': '2020-09-08', 'Website': 'https://moreno.biz/'} <class 'dict'>\n",
      "{'Index': '25', 'Customer Id': 'eC1927Ca84E033e', 'First Name': 'Shane', 'Last Name': 'Wilcox', 'Company': 'Tucker LLC', 'City': 'Bryanville', 'Country': 'Albania', 'Phone 1': '(429)005-9030x11004', 'Phone 2': '541-116-4501', 'Email': 'mariah88@santos.com', 'Subscription Date': '2021-04-06', 'Website': 'https://www.ramos.com/'} <class 'dict'>\n",
      "{'Index': '26', 'Customer Id': '09D7D7C8Fe09aea', 'First Name': 'Marcus', 'Last Name': 'Moody', 'Company': 'Giles Ltd', 'City': 'Kaitlyntown', 'Country': 'Panama', 'Phone 1': '674-677-8623', 'Phone 2': '909-277-5485x566', 'Email': 'donnamullins@norris-barrett.org', 'Subscription Date': '2022-05-24', 'Website': 'https://www.curry.com/'} <class 'dict'>\n",
      "{'Index': '27', 'Customer Id': 'aBdfcF2c50b0bfD', 'First Name': 'Dakota', 'Last Name': 'Poole', 'Company': 'Simmons Group', 'City': 'Michealshire', 'Country': 'Belarus', 'Phone 1': '(371)987-8576x4720', 'Phone 2': '071-152-1376', 'Email': 'stacey67@fields.org', 'Subscription Date': '2022-02-20', 'Website': 'https://sanford-wilcox.biz/'} <class 'dict'>\n",
      "{'Index': '28', 'Customer Id': 'b92EBfdF8a3f0E6', 'First Name': 'Frederick', 'Last Name': 'Harper', 'Company': 'Hinton, Chaney and Stokes', 'City': 'South Marissatown', 'Country': 'Switzerland', 'Phone 1': '+1-077-121-1558x0687', 'Phone 2': '264.742.7149', 'Email': 'jacobkhan@bright.biz', 'Subscription Date': '2022-05-26', 'Website': 'https://callahan.org/'} <class 'dict'>\n",
      "{'Index': '29', 'Customer Id': '3B5dAAFA41AFa22', 'First Name': 'Stefanie', 'Last Name': 'Fitzpatrick', 'Company': 'Santana-Duran', 'City': 'Acevedoville', 'Country': 'Saint Vincent and the Grenadines', 'Phone 1': '(752)776-3286', 'Phone 2': '+1-472-021-4814x85074', 'Email': 'wterrell@clark.com', 'Subscription Date': '2020-07-30', 'Website': 'https://meyers.com/'} <class 'dict'>\n",
      "{'Index': '30', 'Customer Id': 'EDA69ca7a6e96a2', 'First Name': 'Kent', 'Last Name': 'Bradshaw', 'Company': 'Sawyer PLC', 'City': 'North Harold', 'Country': 'Tanzania', 'Phone 1': '+1-472-143-5037x884', 'Phone 2': '126.922.6153', 'Email': 'qjimenez@boyd.com', 'Subscription Date': '2020-04-26', 'Website': 'http://maynard-ho.com/'} <class 'dict'>\n",
      "{'Index': '31', 'Customer Id': '64DCcDFaB9DFd4e', 'First Name': 'Jack', 'Last Name': 'Tate', 'Company': 'Acosta, Petersen and Morrow', 'City': 'West Samuel', 'Country': 'Zimbabwe', 'Phone 1': '965-108-4406x20714', 'Phone 2': '046.906.1442x6784', 'Email': 'gfigueroa@boone-zavala.com', 'Subscription Date': '2021-09-15', 'Website': 'http://www.hawkins-ramsey.com/'} <class 'dict'>\n",
      "{'Index': '32', 'Customer Id': '679c6c83DD872d6', 'First Name': 'Tom', 'Last Name': 'Trujillo', 'Company': 'Mcgee Group', 'City': 'Cunninghamborough', 'Country': 'Denmark', 'Phone 1': '416-338-3758', 'Phone 2': '(775)890-7209', 'Email': 'tapiagreg@beard.info', 'Subscription Date': '2022-01-13', 'Website': 'http://www.daniels-klein.com/'} <class 'dict'>\n",
      "{'Index': '33', 'Customer Id': '7Ce381e4Afa4ba9', 'First Name': 'Gabriel', 'Last Name': 'Mejia', 'Company': 'Adkins-Salinas', 'City': 'Port Annatown', 'Country': 'Liechtenstein', 'Phone 1': '4077245425', 'Phone 2': '646.044.0696x66800', 'Email': 'coleolson@jennings.net', 'Subscription Date': '2021-04-24', 'Website': 'https://patel-hanson.info/'} <class 'dict'>\n",
      "{'Index': '34', 'Customer Id': 'A09AEc6E3bF70eE', 'First Name': 'Kaitlyn', 'Last Name': 'Santana', 'Company': 'Herrera Group', 'City': 'New Kaitlyn', 'Country': 'United States of America', 'Phone 1': '6303643286', 'Phone 2': '447-710-6202x07313', 'Email': 'georgeross@miles.org', 'Subscription Date': '2021-09-21', 'Website': 'http://pham.com/'} <class 'dict'>\n",
      "{'Index': '35', 'Customer Id': 'aA9BAFfBc3710fe', 'First Name': 'Faith', 'Last Name': 'Moon', 'Company': 'Waters, Chase and Aguilar', 'City': 'West Marthaburgh', 'Country': 'Bahamas', 'Phone 1': '+1-586-217-0359x6317', 'Phone 2': '+1-818-199-1403', 'Email': 'willistonya@randolph-baker.com', 'Subscription Date': '2021-11-03', 'Website': 'https://spencer-charles.info/'} <class 'dict'>\n",
      "{'Index': '36', 'Customer Id': 'E11dfb2DB8C9f72', 'First Name': 'Tammie', 'Last Name': 'Haley', 'Company': 'Palmer, Barnes and Houston', 'City': 'East Teresa', 'Country': 'Belize', 'Phone 1': '001-276-734-4113x6087', 'Phone 2': '(430)300-8770', 'Email': 'harrisisaiah@jenkins.com', 'Subscription Date': '2022-01-04', 'Website': 'http://evans-simon.com/'} <class 'dict'>\n",
      "{'Index': '37', 'Customer Id': '889eCf90f68c5Da', 'First Name': 'Nicholas', 'Last Name': 'Sosa', 'Company': 'Jordan Ltd', 'City': 'South Hunter', 'Country': 'Uruguay', 'Phone 1': '(661)425-6042', 'Phone 2': '975-998-1519', 'Email': 'fwolfe@dorsey.com', 'Subscription Date': '2021-08-10', 'Website': 'https://www.fleming-richards.com/'} <class 'dict'>\n",
      "{'Index': '38', 'Customer Id': '7a1Ee69F4fF4B4D', 'First Name': 'Jordan', 'Last Name': 'Gay', 'Company': 'Glover and Sons', 'City': 'South Walter', 'Country': 'Solomon Islands', 'Phone 1': '7208417020', 'Phone 2': '8035336772', 'Email': 'tiffanydavies@harris-mcfarland.org', 'Subscription Date': '2021-02-24', 'Website': 'http://www.lee.org/'} <class 'dict'>\n",
      "{'Index': '39', 'Customer Id': 'dca4f1D0A0fc5c9', 'First Name': 'Bruce', 'Last Name': 'Esparza', 'Company': 'Huerta-Mclean', 'City': 'Poolefurt', 'Country': 'Montenegro', 'Phone 1': '559-529-4424', 'Phone 2': '001-625-000-7132x0367', 'Email': 'preese@frye-vega.com', 'Subscription Date': '2021-10-22', 'Website': 'http://www.farley.org/'} <class 'dict'>\n",
      "{'Index': '40', 'Customer Id': '17aD8e2dB3df03D', 'First Name': 'Sherry', 'Last Name': 'Garza', 'Company': 'Anderson Ltd', 'City': 'West John', 'Country': 'Poland', 'Phone 1': '001-067-713-6440x158', 'Phone 2': '(978)289-8785x5766', 'Email': 'ann48@miller.com', 'Subscription Date': '2021-11-01', 'Website': 'http://spence.com/'} <class 'dict'>\n",
      "{'Index': '41', 'Customer Id': '2f79Cd309624Abb', 'First Name': 'Natalie', 'Last Name': 'Gentry', 'Company': 'Monroe PLC', 'City': 'West Darius', 'Country': 'Dominican Republic', 'Phone 1': '830.996.8238', 'Phone 2': '499.122.5415', 'Email': 'tcummings@fitzpatrick-ashley.com', 'Subscription Date': '2020-10-10', 'Website': 'http://www.dorsey.biz/'} <class 'dict'>\n",
      "{'Index': '42', 'Customer Id': '6e5ad5a5e2bB5Ca', 'First Name': 'Bryan', 'Last Name': 'Dunn', 'Company': 'Kaufman and Sons', 'City': 'North Jimstad', 'Country': 'Burkina Faso', 'Phone 1': '001-710-802-5565', 'Phone 2': '078.699.8982x13881', 'Email': 'woodwardandres@phelps.com', 'Subscription Date': '2021-09-08', 'Website': 'http://www.butler.com/'} <class 'dict'>\n",
      "{'Index': '43', 'Customer Id': '7E441b6B228DBcA', 'First Name': 'Wayne', 'Last Name': 'Simpson', 'Company': 'Perkins-Trevino', 'City': 'East Rebekahborough', 'Country': 'Bolivia', 'Phone 1': '(344)156-8632x1869', 'Phone 2': '463-445-3702x38463', 'Email': 'barbarapittman@holder.com', 'Subscription Date': '2020-12-13', 'Website': 'https://gillespie-holder.com/'} <class 'dict'>\n",
      "{'Index': '44', 'Customer Id': 'D3fC11A9C235Dc6', 'First Name': 'Luis', 'Last Name': 'Greer', 'Company': 'Cross PLC', 'City': 'North Drew', 'Country': 'Bulgaria', 'Phone 1': '001-336-025-6849x701', 'Phone 2': '684.698.2911x6092', 'Email': 'bstuart@williamson-mcclure.com', 'Subscription Date': '2022-05-15', 'Website': 'https://fletcher-nielsen.com/'} <class 'dict'>\n",
      "{'Index': '45', 'Customer Id': '30Dfa48fe5Ede78', 'First Name': 'Rhonda', 'Last Name': 'Frost', 'Company': 'Herrera, Shepherd and Underwood', 'City': 'Lake Lindaburgh', 'Country': 'Monaco', 'Phone 1': '(127)081-9339', 'Phone 2': '+1-431-028-3337x3492', 'Email': 'zkrueger@wolf-chavez.net', 'Subscription Date': '2021-12-06', 'Website': 'http://www.khan.com/'} <class 'dict'>\n",
      "{'Index': '46', 'Customer Id': 'fD780ED8dbEae7B', 'First Name': 'Joanne', 'Last Name': 'Montes', 'Company': 'Price, Sexton and Mcdaniel', 'City': 'Gwendolynview', 'Country': 'Palau', 'Phone 1': '(897)726-7952', 'Phone 2': '(467)886-9467x5721', 'Email': 'juan80@henson.net', 'Subscription Date': '2020-07-01', 'Website': 'http://ochoa.com/'} <class 'dict'>\n",
      "{'Index': '47', 'Customer Id': '300A40d3ce24bBA', 'First Name': 'Geoffrey', 'Last Name': 'Guzman', 'Company': 'Short-Wiggins', 'City': 'Zimmermanland', 'Country': 'Uzbekistan', 'Phone 1': '975.235.8921x269', 'Phone 2': '(983)188-6873', 'Email': 'bauercrystal@gay.com', 'Subscription Date': '2020-04-23', 'Website': 'https://decker-kline.com/'} <class 'dict'>\n",
      "{'Index': '48', 'Customer Id': '283DFCD0Dba40aF', 'First Name': 'Gloria', 'Last Name': 'Mccall', 'Company': 'Brennan, Acosta and Ramos', 'City': 'North Kerriton', 'Country': 'Ghana', 'Phone 1': '445-603-6729', 'Phone 2': '001-395-959-4736x4524', 'Email': 'bartlettjenna@zuniga-moss.biz', 'Subscription Date': '2022-03-11', 'Website': 'http://burgess-frank.com/'} <class 'dict'>\n",
      "{'Index': '49', 'Customer Id': 'F4Fc91fEAEad286', 'First Name': 'Brady', 'Last Name': 'Cohen', 'Company': 'Osborne-Erickson', 'City': 'North Eileenville', 'Country': 'United Arab Emirates', 'Phone 1': '741.849.0139x524', 'Phone 2': '+1-028-691-7497x0894', 'Email': 'mccalltyrone@durham-rose.biz', 'Subscription Date': '2022-03-10', 'Website': 'http://hammond-barron.com/'} <class 'dict'>\n",
      "{'Index': '50', 'Customer Id': '80F33Fd2AcebF05', 'First Name': 'Latoya', 'Last Name': 'Mccann', 'Company': 'Hobbs, Garrett and Sanford', 'City': 'Port Sergiofort', 'Country': 'Belarus', 'Phone 1': '(530)287-4548x29481', 'Phone 2': '162-234-0249x32790', 'Email': 'bobhammond@barry.biz', 'Subscription Date': '2021-12-02', 'Website': 'https://www.burton.com/'} <class 'dict'>\n",
      "{'Index': '51', 'Customer Id': 'Aa20BDe68eAb0e9', 'First Name': 'Gerald', 'Last Name': 'Hawkins', 'Company': 'Phelps, Forbes and Koch', 'City': 'New Alberttown', 'Country': 'Canada', 'Phone 1': '+1-323-239-1456x96168', 'Phone 2': '(092)508-0269', 'Email': 'uwarner@steele-arias.com', 'Subscription Date': '2021-03-19', 'Website': 'https://valenzuela.com/'} <class 'dict'>\n",
      "{'Index': '52', 'Customer Id': 'e898eEB1B9FE22b', 'First Name': 'Samuel', 'Last Name': 'Crawford', 'Company': 'May, Goodwin and Martin', 'City': 'South Jasmine', 'Country': 'Algeria', 'Phone 1': '802-242-7457', 'Phone 2': '626.116.9535x8578', 'Email': 'xpittman@ritter-carney.net', 'Subscription Date': '2021-03-27', 'Website': 'https://guerrero.org/'} <class 'dict'>\n",
      "{'Index': '53', 'Customer Id': 'faCEF517ae7D8eB', 'First Name': 'Patricia', 'Last Name': 'Goodwin', 'Company': 'Christian, Winters and Ellis', 'City': 'Cowanfort', 'Country': 'Swaziland', 'Phone 1': '322.549.7139x70040', 'Phone 2': '(111)741-4173', 'Email': 'vaughanchristy@lara.biz', 'Subscription Date': '2021-03-08', 'Website': 'http://clark.info/'} <class 'dict'>\n",
      "{'Index': '54', 'Customer Id': 'c09952De6Cda8aA', 'First Name': 'Stacie', 'Last Name': 'Richard', 'Company': 'Byrd Inc', 'City': 'New Deborah', 'Country': 'Madagascar', 'Phone 1': '001-622-948-3641x24810', 'Phone 2': '001-731-168-2893x8891', 'Email': 'clinton85@colon-arias.org', 'Subscription Date': '2020-10-15', 'Website': 'https://kim.com/'} <class 'dict'>\n",
      "{'Index': '55', 'Customer Id': 'f3BEf3Be028166f', 'First Name': 'Robin', 'Last Name': 'West', 'Company': 'Nixon, Blackwell and Sosa', 'City': 'Wallstown', 'Country': 'Ecuador', 'Phone 1': '698.303.4267', 'Phone 2': '001-683-837-7651x525', 'Email': 'greenemiranda@zimmerman.com', 'Subscription Date': '2022-01-13', 'Website': 'https://www.mora.com/'} <class 'dict'>\n",
      "{'Index': '56', 'Customer Id': 'C6F2Fc6a7948a4e', 'First Name': 'Ralph', 'Last Name': 'Haas', 'Company': 'Montes PLC', 'City': 'Lake Ellenchester', 'Country': 'Palestinian Territory', 'Phone 1': '2239271999', 'Phone 2': '001-962-434-0867x649', 'Email': 'goodmancesar@figueroa.biz', 'Subscription Date': '2020-05-25', 'Website': 'http://may.com/'} <class 'dict'>\n",
      "{'Index': '57', 'Customer Id': 'c8FE57cBBdCDcb2', 'First Name': 'Phyllis', 'Last Name': 'Maldonado', 'Company': 'Costa PLC', 'City': 'Lake Whitney', 'Country': 'Saint Barthelemy', 'Phone 1': '4500370767', 'Phone 2': '001-508-064-6725x017', 'Email': 'yhanson@warner-diaz.org', 'Subscription Date': '2021-01-25', 'Website': 'http://www.bernard.com/'} <class 'dict'>\n",
      "{'Index': '58', 'Customer Id': 'B5acdFC982124F2', 'First Name': 'Danny', 'Last Name': 'Parrish', 'Company': 'Novak LLC', 'City': 'East Jaredbury', 'Country': 'United Arab Emirates', 'Phone 1': '(669)384-8597x8794', 'Phone 2': '506.731.5952x571', 'Email': 'howelldarren@house-cohen.com', 'Subscription Date': '2021-03-17', 'Website': 'http://www.parsons-hudson.com/'} <class 'dict'>\n",
      "{'Index': '59', 'Customer Id': '8c7DdF10798bCC3', 'First Name': 'Kathy', 'Last Name': 'Hill', 'Company': 'Moore, Mccoy and Glass', 'City': 'Selenabury', 'Country': 'South Georgia and the South Sandwich Islands', 'Phone 1': '001-171-716-2175x310', 'Phone 2': '888.625.0654', 'Email': 'ncamacho@boone-simmons.org', 'Subscription Date': '2020-11-15', 'Website': 'http://hayden.com/'} <class 'dict'>\n",
      "{'Index': '60', 'Customer Id': 'C681dDd0cc422f7', 'First Name': 'Kelli', 'Last Name': 'Hardy', 'Company': 'Petty Ltd', 'City': 'Huangfort', 'Country': 'Sao Tome and Principe', 'Phone 1': '020.324.2191x2022', 'Phone 2': '424-157-8216', 'Email': 'kristopher62@oliver.com', 'Subscription Date': '2020-12-20', 'Website': 'http://www.kidd.com/'} <class 'dict'>\n",
      "{'Index': '61', 'Customer Id': 'a940cE42e035F28', 'First Name': 'Lynn', 'Last Name': 'Pham', 'Company': 'Brennan, Camacho and Tapia', 'City': 'East Pennyshire', 'Country': 'Portugal', 'Phone 1': '846.468.6834x611', 'Phone 2': '001-248-691-0006', 'Email': 'mpham@rios-guzman.com', 'Subscription Date': '2020-08-21', 'Website': 'https://www.murphy.com/'} <class 'dict'>\n",
      "{'Index': '62', 'Customer Id': '9Cf5E6AFE0aeBfd', 'First Name': 'Shelley', 'Last Name': 'Harris', 'Company': 'Prince, Malone and Pugh', 'City': 'Port Jasminborough', 'Country': 'Togo', 'Phone 1': '423.098.0315x8373', 'Phone 2': '+1-386-458-8944x15194', 'Email': 'zachary96@mitchell-bryant.org', 'Subscription Date': '2020-12-10', 'Website': 'https://www.ryan.com/'} <class 'dict'>\n",
      "{'Index': '63', 'Customer Id': 'aEcbe5365BbC67D', 'First Name': 'Eddie', 'Last Name': 'Jimenez', 'Company': 'Caldwell Group', 'City': 'West Kristine', 'Country': 'Ethiopia', 'Phone 1': '+1-235-657-1073x6306', 'Phone 2': '(026)401-7353x2417', 'Email': 'kristiwhitney@bernard.com', 'Subscription Date': '2022-03-24', 'Website': 'http://cherry.com/'} <class 'dict'>\n",
      "{'Index': '64', 'Customer Id': 'FCBdfCEAe20A8Dc', 'First Name': 'Chloe', 'Last Name': 'Hutchinson', 'Company': 'Simon LLC', 'City': 'South Julia', 'Country': 'Netherlands', 'Phone 1': '981-544-9452', 'Phone 2': '+1-288-552-4666x060', 'Email': 'leah85@sutton-terrell.com', 'Subscription Date': '2022-05-15', 'Website': 'https://mitchell.info/'} <class 'dict'>\n",
      "{'Index': '65', 'Customer Id': '636cBF0835E10ff', 'First Name': 'Eileen', 'Last Name': 'Lynch', 'Company': 'Knight, Abbott and Hubbard', 'City': 'Helenborough', 'Country': 'Liberia', 'Phone 1': '+1-158-951-4131x53578', 'Phone 2': '001-673-779-6713x680', 'Email': 'levigiles@vincent.com', 'Subscription Date': '2021-01-02', 'Website': 'http://mckay.com/'} <class 'dict'>\n",
      "{'Index': '66', 'Customer Id': 'fF1b6c9E8Fbf1ff', 'First Name': 'Fernando', 'Last Name': 'Lambert', 'Company': 'Church-Banks', 'City': 'Lake Nancy', 'Country': 'Lithuania', 'Phone 1': '497.829.9038', 'Phone 2': '3863743398', 'Email': 'fisherlinda@schaefer.net', 'Subscription Date': '2021-04-23', 'Website': 'https://www.vang.com/'} <class 'dict'>\n",
      "{'Index': '67', 'Customer Id': '2A13F74EAa7DA6c', 'First Name': 'Makayla', 'Last Name': 'Cannon', 'Company': 'Henderson Inc', 'City': 'Georgeport', 'Country': 'New Caledonia', 'Phone 1': '001-215-801-6392x46009', 'Phone 2': '027-609-6460', 'Email': 'scottcurtis@hurley.biz', 'Subscription Date': '2020-01-20', 'Website': 'http://www.velazquez.net/'} <class 'dict'>\n",
      "{'Index': '68', 'Customer Id': 'a014Ec1b9FccC1E', 'First Name': 'Tom', 'Last Name': 'Alvarado', 'Company': 'Donaldson-Dougherty', 'City': 'South Sophiaberg', 'Country': 'Kiribati', 'Phone 1': '(585)606-2980x2258', 'Phone 2': '730-797-3594x5614', 'Email': 'nicholsonnina@montgomery.info', 'Subscription Date': '2020-08-18', 'Website': 'http://odom-massey.com/'} <class 'dict'>\n",
      "{'Index': '69', 'Customer Id': '421a109cABDf5fa', 'First Name': 'Virginia', 'Last Name': 'Dudley', 'Company': 'Warren Ltd', 'City': 'Hartbury', 'Country': 'French Southern Territories', 'Phone 1': '027.846.3705x14184', 'Phone 2': '+1-439-171-1846x4636', 'Email': 'zvalencia@phelps.com', 'Subscription Date': '2021-01-31', 'Website': 'http://hunter-esparza.com/'} <class 'dict'>\n",
      "{'Index': '70', 'Customer Id': 'CC68FD1D3Bbbf22', 'First Name': 'Riley', 'Last Name': 'Good', 'Company': 'Wade PLC', 'City': 'Erikaville', 'Country': 'Canada', 'Phone 1': '6977745822', 'Phone 2': '855-436-7641', 'Email': 'alex06@galloway.com', 'Subscription Date': '2020-02-03', 'Website': 'http://conway.org/'} <class 'dict'>\n",
      "{'Index': '71', 'Customer Id': 'CBCd2Ac8E3eBDF9', 'First Name': 'Alexandria', 'Last Name': 'Buck', 'Company': 'Keller-Coffey', 'City': 'Nicolasfort', 'Country': 'Iran', 'Phone 1': '078-900-4760x76668', 'Phone 2': '414-112-8700x68751', 'Email': 'lee48@manning.com', 'Subscription Date': '2021-02-20', 'Website': 'https://ramsey.org/'} <class 'dict'>\n",
      "{'Index': '72', 'Customer Id': 'Ef859092FbEcC07', 'First Name': 'Richard', 'Last Name': 'Roth', 'Company': 'Conway-Mcbride', 'City': 'New Jasmineshire', 'Country': 'Morocco', 'Phone 1': '581-440-6539', 'Phone 2': '9857827463', 'Email': 'aharper@maddox-townsend.org', 'Subscription Date': '2020-02-23', 'Website': 'https://www.brooks.com/'} <class 'dict'>\n",
      "{'Index': '73', 'Customer Id': 'F560f2d3cDFb618', 'First Name': 'Candice', 'Last Name': 'Keller', 'Company': 'Huynh and Sons', 'City': 'East Summerstad', 'Country': 'Zimbabwe', 'Phone 1': '001-927-965-8550x92406', 'Phone 2': '001-243-038-4271x53076', 'Email': 'buckleycory@odonnell.net', 'Subscription Date': '2020-08-22', 'Website': 'https://www.lucero.com/'} <class 'dict'>\n",
      "{'Index': '74', 'Customer Id': 'A3F76Be153Df4a3', 'First Name': 'Anita', 'Last Name': 'Benson', 'Company': 'Parrish Ltd', 'City': 'Skinnerport', 'Country': 'Russian Federation', 'Phone 1': '874.617.5668x69878', 'Phone 2': '(399)820-6418x0071', 'Email': 'angie04@oconnell.com', 'Subscription Date': '2020-02-09', 'Website': 'http://oconnor.com/'} <class 'dict'>\n",
      "{'Index': '75', 'Customer Id': 'D01Af0AF7cBbFeA', 'First Name': 'Regina', 'Last Name': 'Stein', 'Company': 'Guzman-Brown', 'City': 'Raystad', 'Country': 'Solomon Islands', 'Phone 1': '001-469-848-0724x4407', 'Phone 2': '001-085-360-4426x00357', 'Email': 'zrosario@rojas-hardin.net', 'Subscription Date': '2022-01-15', 'Website': 'http://www.johnston.info/'} <class 'dict'>\n",
      "{'Index': '76', 'Customer Id': 'd40e89dCade7b2F', 'First Name': 'Debra', 'Last Name': 'Riddle', 'Company': 'Chang, Aguirre and Leblanc', 'City': 'Colinhaven', 'Country': 'United States Virgin Islands', 'Phone 1': '+1-768-182-6014x14336', 'Phone 2': '(303)961-4491', 'Email': 'shieldskerry@robles.com', 'Subscription Date': '2020-07-11', 'Website': 'http://kaiser.info/'} <class 'dict'>\n",
      "{'Index': '77', 'Customer Id': 'BF6a1f9bd1bf8DE', 'First Name': 'Brittany', 'Last Name': 'Zuniga', 'Company': 'Mason-Hester', 'City': 'West Reginald', 'Country': 'Kyrgyz Republic', 'Phone 1': '(050)136-9025', 'Phone 2': '001-480-851-2496x0157', 'Email': 'mchandler@cochran-huerta.org', 'Subscription Date': '2021-07-24', 'Website': 'http://www.boyle.com/'} <class 'dict'>\n",
      "{'Index': '78', 'Customer Id': 'FfaeFFbbbf280db', 'First Name': 'Cassidy', 'Last Name': 'Mcmahon', 'Company': 'Mcguire, Huynh and Hopkins', 'City': 'Lake Sherryborough', 'Country': 'Myanmar', 'Phone 1': '5040771311', 'Phone 2': '684-682-0021x1326', 'Email': 'katrinalane@fitzgerald.com', 'Subscription Date': '2020-10-21', 'Website': 'https://hurst.com/'} <class 'dict'>\n",
      "{'Index': '79', 'Customer Id': 'CbAE1d1e9a8dCb1', 'First Name': 'Laurie', 'Last Name': 'Pennington', 'Company': 'Sanchez, Marsh and Hale', 'City': 'Port Katherineville', 'Country': 'Dominica', 'Phone 1': '007.155.3406x553', 'Phone 2': '+1-809-862-5566x277', 'Email': 'cookejill@powell.com', 'Subscription Date': '2020-06-08', 'Website': 'http://www.hebert.com/'} <class 'dict'>\n",
      "{'Index': '80', 'Customer Id': 'A7F85c1DE4dB87f', 'First Name': 'Alejandro', 'Last Name': 'Blair', 'Company': 'Combs, Waller and Durham', 'City': 'Thomasland', 'Country': 'Iceland', 'Phone 1': '(690)068-4641x51468', 'Phone 2': '555.509.8691x2329', 'Email': 'elizabethbarr@ewing.com', 'Subscription Date': '2020-09-19', 'Website': 'https://mercado-blevins.com/'} <class 'dict'>\n",
      "{'Index': '81', 'Customer Id': 'D6CEAfb3BDbaa1A', 'First Name': 'Leslie', 'Last Name': 'Jennings', 'Company': 'Blankenship-Arias', 'City': 'Coreybury', 'Country': 'Micronesia', 'Phone 1': '629.198.6346', 'Phone 2': '075.256.0829', 'Email': 'corey75@wiggins.com', 'Subscription Date': '2021-11-13', 'Website': 'https://www.juarez.com/'} <class 'dict'>\n",
      "{'Index': '82', 'Customer Id': 'Ebdb6F6F7c90b69', 'First Name': 'Kathleen', 'Last Name': 'Mckay', 'Company': 'Coffey, Lamb and Johnson', 'City': 'Lake Janiceton', 'Country': 'Saint Vincent and the Grenadines', 'Phone 1': '(733)910-9968', 'Phone 2': '(691)247-4128x0665', 'Email': 'chloelester@higgins-wilkinson.com', 'Subscription Date': '2021-09-12', 'Website': 'http://www.owens-mooney.com/'} <class 'dict'>\n",
      "{'Index': '83', 'Customer Id': 'E8E7e8Cfe516ef0', 'First Name': 'Hunter', 'Last Name': 'Moreno', 'Company': 'Fitzpatrick-Lawrence', 'City': 'East Clinton', 'Country': 'Isle of Man', 'Phone 1': '(733)833-6754', 'Phone 2': '001-761-013-7121', 'Email': 'isaac26@benton-finley.com', 'Subscription Date': '2020-12-28', 'Website': 'http://walls.info/'} <class 'dict'>\n",
      "{'Index': '84', 'Customer Id': '78C06E9b6B3DF20', 'First Name': 'Chad', 'Last Name': 'Davidson', 'Company': 'Garcia-Jimenez', 'City': 'South Joshuashire', 'Country': 'Oman', 'Phone 1': '8275702958', 'Phone 2': '(804)842-4715', 'Email': 'justinwalters@jimenez.com', 'Subscription Date': '2021-11-15', 'Website': 'http://www.garner-oliver.com/'} <class 'dict'>\n",
      "{'Index': '85', 'Customer Id': '03A1E62ADdeb31c', 'First Name': 'Corey', 'Last Name': 'Holt', 'Company': 'Mcdonald, Bird and Ramirez', 'City': 'New Glenda', 'Country': 'Fiji', 'Phone 1': '001-439-242-4986x7918', 'Phone 2': '3162708934', 'Email': 'maurice46@morgan.com', 'Subscription Date': '2020-02-18', 'Website': 'http://www.watson.com/'} <class 'dict'>\n",
      "{'Index': '86', 'Customer Id': 'C6763c99d0bd16D', 'First Name': 'Emma', 'Last Name': 'Cunningham', 'Company': 'Stephens Inc', 'City': 'North Jillianview', 'Country': 'New Zealand', 'Phone 1': '128-059-0206x60217', 'Phone 2': '(312)164-4545x2284', 'Email': 'walter83@juarez.org', 'Subscription Date': '2022-05-13', 'Website': 'http://www.reid.info/'} <class 'dict'>\n",
      "{'Index': '87', 'Customer Id': 'ebe77E5Bf9476CE', 'First Name': 'Duane', 'Last Name': 'Woods', 'Company': 'Montoya-Miller', 'City': 'Lyonsberg', 'Country': 'Maldives', 'Phone 1': '(636)544-7783x7288', 'Phone 2': '(203)287-1003x5932', 'Email': 'kmercer@wagner.com', 'Subscription Date': '2020-07-21', 'Website': 'http://murray.org/'} <class 'dict'>\n",
      "{'Index': '88', 'Customer Id': 'E4Bbcd8AD81fC5f', 'First Name': 'Alison', 'Last Name': 'Vargas', 'Company': 'Vaughn, Watts and Leach', 'City': 'East Cristinabury', 'Country': 'Benin', 'Phone 1': '365-273-8144', 'Phone 2': '053-308-7653x6287', 'Email': 'vcantu@norton.com', 'Subscription Date': '2020-11-10', 'Website': 'http://mason.info/'} <class 'dict'>\n",
      "{'Index': '89', 'Customer Id': 'efeb73245CDf1fF', 'First Name': 'Vernon', 'Last Name': 'Kane', 'Company': 'Carter-Strickland', 'City': 'Thomasfurt', 'Country': 'Yemen', 'Phone 1': '114-854-1159x555', 'Phone 2': '499-608-4612', 'Email': 'hilljesse@barrett.info', 'Subscription Date': '2021-04-15', 'Website': 'http://www.duffy-hensley.net/'} <class 'dict'>\n",
      "{'Index': '90', 'Customer Id': '37Ec4B395641c1E', 'First Name': 'Lori', 'Last Name': 'Flowers', 'Company': 'Decker-Mcknight', 'City': 'North Joeburgh', 'Country': 'Namibia', 'Phone 1': '679.415.1210', 'Phone 2': '945-842-3659x4581', 'Email': 'tyrone77@valenzuela.info', 'Subscription Date': '2021-01-09', 'Website': 'http://www.deleon-crosby.com/'} <class 'dict'>\n",
      "{'Index': '91', 'Customer Id': '5ef6d3eefdD43bE', 'First Name': 'Nina', 'Last Name': 'Chavez', 'Company': 'Byrd-Campbell', 'City': 'Cassidychester', 'Country': 'Bhutan', 'Phone 1': '053-344-3205', 'Phone 2': '+1-330-920-5422x571', 'Email': 'elliserica@frank.com', 'Subscription Date': '2020-03-26', 'Website': 'https://www.pugh.com/'} <class 'dict'>\n",
      "{'Index': '92', 'Customer Id': '98b3aeDcC3B9FF3', 'First Name': 'Shane', 'Last Name': 'Foley', 'Company': 'Rocha-Hart', 'City': 'South Dannymouth', 'Country': 'Hungary', 'Phone 1': '+1-822-569-0302', 'Phone 2': '001-626-114-5844x55073', 'Email': 'nsteele@sparks.com', 'Subscription Date': '2021-07-06', 'Website': 'https://www.holt-sparks.com/'} <class 'dict'>\n",
      "{'Index': '93', 'Customer Id': 'aAb6AFc7AfD0fF3', 'First Name': 'Collin', 'Last Name': 'Ayers', 'Company': 'Lamb-Peterson', 'City': 'South Lonnie', 'Country': 'Anguilla', 'Phone 1': '404-645-5351x012', 'Phone 2': '001-257-582-8850x8516', 'Email': 'dudleyemily@gonzales.biz', 'Subscription Date': '2021-06-29', 'Website': 'http://www.ruiz.com/'} <class 'dict'>\n",
      "{'Index': '94', 'Customer Id': '54B5B5Fe9F1B6C5', 'First Name': 'Sherry', 'Last Name': 'Young', 'Company': 'Lee, Lucero and Johnson', 'City': 'Frankchester', 'Country': 'Solomon Islands', 'Phone 1': '158-687-1764', 'Phone 2': '(438)375-6207x003', 'Email': 'alan79@gates-mclaughlin.com', 'Subscription Date': '2021-04-04', 'Website': 'https://travis.net/'} <class 'dict'>\n",
      "{'Index': '95', 'Customer Id': 'BE91A0bdcA49Bbc', 'First Name': 'Darrell', 'Last Name': 'Douglas', 'Company': 'Newton, Petersen and Mathis', 'City': 'Daisyborough', 'Country': 'Mali', 'Phone 1': '001-084-845-9524x1777', 'Phone 2': '001-769-564-6303', 'Email': 'grayjean@lowery-good.com', 'Subscription Date': '2022-02-17', 'Website': 'https://banks.biz/'} <class 'dict'>\n",
      "{'Index': '96', 'Customer Id': 'cb8E23e48d22Eae', 'First Name': 'Karl', 'Last Name': 'Greer', 'Company': 'Carey LLC', 'City': 'East Richard', 'Country': 'Guyana', 'Phone 1': '(188)169-1674x58692', 'Phone 2': '001-841-293-3519x614', 'Email': 'hhart@jensen.com', 'Subscription Date': '2022-01-30', 'Website': 'http://hayes-perez.com/'} <class 'dict'>\n",
      "{'Index': '97', 'Customer Id': 'CeD220bdAaCfaDf', 'First Name': 'Lynn', 'Last Name': 'Atkinson', 'Company': 'Ware, Burns and Oneal', 'City': 'New Bradview', 'Country': 'Sri Lanka', 'Phone 1': '+1-846-706-2218', 'Phone 2': '605.413.3198', 'Email': 'vkemp@ferrell.com', 'Subscription Date': '2021-07-10', 'Website': 'https://novak-allison.com/'} <class 'dict'>\n",
      "{'Index': '98', 'Customer Id': '28CDbC0dFe4b1Db', 'First Name': 'Fred', 'Last Name': 'Guerra', 'Company': 'Schmitt-Jones', 'City': 'Ortegaland', 'Country': 'Solomon Islands', 'Phone 1': '+1-753-067-8419x7170', 'Phone 2': '+1-632-666-7507x92121', 'Email': 'swagner@kane.org', 'Subscription Date': '2021-09-18', 'Website': 'https://www.ross.com/'} <class 'dict'>\n",
      "{'Index': '99', 'Customer Id': 'c23d1D9EE8DEB0A', 'First Name': 'Yvonne', 'Last Name': 'Farmer', 'Company': 'Fitzgerald-Harrell', 'City': 'Lake Elijahview', 'Country': 'Aruba', 'Phone 1': '(530)311-9786', 'Phone 2': '001-869-452-0943x12424', 'Email': 'mccarthystephen@horn-green.biz', 'Subscription Date': '2021-08-11', 'Website': 'http://watkins.info/'} <class 'dict'>\n",
      "{'Index': '100', 'Customer Id': '2354a0E336A91A1', 'First Name': 'Clarence', 'Last Name': 'Haynes', 'Company': 'Le, Nash and Cross', 'City': 'Judymouth', 'Country': 'Honduras', 'Phone 1': '(753)813-6941', 'Phone 2': '783.639.1472', 'Email': 'colleen91@faulkner.biz', 'Subscription Date': '2020-03-11', 'Website': 'http://www.hatfield-saunders.net/'} <class 'dict'>\n"
     ]
    }
   ],
   "source": [
    "import csv\n",
    "\n",
    "csv_file_path = 'customers-100.csv'\n",
    "\n",
    "with open(csv_file_path,'r',newline=\"\") as csv_file:\n",
    "    # csv_reader = csv.reader(csv_file)\n",
    "    # print(csv_reader,type(csv_reader))\n",
    "    # for row in csv_reader:\n",
    "    #     print(row,type(row))\n",
    "\n",
    "    csv_reader = csv.DictReader(csv_file)\n",
    "    print(csv_reader,type(csv_reader))\n",
    "    for row in csv_reader:\n",
    "        print(row,type(row))\n",
    "\n"
   ]
  },
  {
   "cell_type": "code",
   "execution_count": 61,
   "metadata": {},
   "outputs": [],
   "source": [
    "import csv\n",
    "\n",
    "csv_file_path=\"my_csv.csv\"\n",
    "\n",
    "data = [\n",
    "    {\"name\" : \" sachini\" , \"age\":18 , \"city\" : \"galle\"},\n",
    "    {\"name\" : \" nimadi\" , \"age\":38 , \"city\" : \"kandy\"},\n",
    "    {\"name\" : \" diluni\" , \"age\":28 , \"city\" : \"colombo\"}\n",
    "]\n",
    "field_names = [\"name\" , \"age\" , \"city\"]\n",
    "with open(csv_file_path,'w',newline='')as csv_file:\n",
    "    csv_writer = csv.DictWriter(csv_file, fieldnames=field_names)\n",
    "    csv_writer.writeheader()\n",
    "\n",
    "    for row in data:\n",
    "        csv_writer.writerow(row)\n",
    "\n"
   ]
  },
  {
   "cell_type": "markdown",
   "metadata": {},
   "source": [
    "manage employee record \n",
    "\n",
    "your task with creating a python program to manage a company employee records stored in csv file \n",
    "the programm should read the employee details from a csv files filter the records based on the condition and write the filtered recordto a new csv file.\n",
    "files provided \n",
    "1.input file : employees.csv\n",
    "containts the folloeing fileds EmployeeId,Name,Department, Salary\n",
    "\n",
    "2.output file : high_salary_employee.csv\n",
    "\n",
    "you will create this file it should contains records who salaries are above 60000 the filed should remain the same \n",
    "task \n",
    "1.read the input file\n",
    "you csv.reader to read employee.csv and display all the records\n",
    "2.filter the records\n",
    "identify employess with the salary > 60000\n",
    "3. write the filetred record use csv.DicWriter to write the filtere record to a new file name high_salary_employee.csv"
   ]
  },
  {
   "cell_type": "code",
   "execution_count": null,
   "metadata": {},
   "outputs": [
    {
     "name": "stdout",
     "output_type": "stream",
     "text": [
      "<_csv.reader object at 0x0000029D7C296F80> <class '_csv.reader'>\n",
      "['emploeeId', 'name', 'department', 'salary'] <class 'list'>\n",
      "['1', 'Jhone', 'IT', '60000'] <class 'list'>\n",
      "['2', 'sachini', 'HR', '690900'] <class 'list'>\n",
      "['3', 'sasoba', 'Finance', '20000'] <class 'list'>\n",
      "['4', 'dinu', 'IT', '65000'] <class 'list'>\n",
      "[{'emploeeId': '2', 'name': 'sachini', 'department': 'HR', 'salary': '690900'}, {'emploeeId': '4', 'name': 'dinu', 'department': 'IT', 'salary': '65000'}]\n"
     ]
    }
   ],
   "source": [
    "import csv\n",
    "\n",
    "csv_file_path = 'employees.csv'\n",
    "\n",
    "with open(csv_file_path,'r',newline=\"\") as csv_file:\n",
    "    csv_reader = csv.reader(csv_file)\n",
    "    print(csv_reader,type(csv_reader))\n",
    "    for row in csv_reader:\n",
    "        print(row,type(row))\n",
    "\n",
    "with open(csv_file_path,'r',newline=\"\") as csv_file:\n",
    "    content = csv.DictReader(csv_file)\n",
    "    filtered = []\n",
    "\n",
    "    for row in content:\n",
    "        if int(row[\"salary\"])> 60000:\n",
    "            filtered.append(row)\n",
    "    print(filtered)\n",
    "\n",
    "field_names = [\"emploeeId\",\"name\",\"department\",\"salary\"]\n",
    "with open('high_salary_employee.csv','w',newline='')as csv_file:\n",
    "    csv_writer = csv.DictWriter(csv_file, fieldnames=field_names)\n",
    "    csv_writer.writeheader()\n",
    "\n",
    "    for row in filtered:\n",
    "        csv_writer.writerow(row)\n",
    "\n",
    "    "
   ]
  },
  {
   "cell_type": "code",
   "execution_count": 75,
   "metadata": {},
   "outputs": [
    {
     "name": "stdout",
     "output_type": "stream",
     "text": [
      "12\n"
     ]
    }
   ],
   "source": [
    "def outer(x):\n",
    "    def inner(y):\n",
    "        return x+y\n",
    "    return inner\n",
    "\n",
    "temp_var = outer(5)\n",
    "print(temp_var(7))"
   ]
  },
  {
   "cell_type": "code",
   "execution_count": 76,
   "metadata": {},
   "outputs": [
    {
     "name": "stdout",
     "output_type": "stream",
     "text": [
      "10\n"
     ]
    }
   ],
   "source": [
    "def add(x,y):\n",
    "    return x+y\n",
    "def calculate(func, x , y):\n",
    "    return func(x,y)\n",
    "result = calculate(add,4,6)\n",
    "print(result)"
   ]
  },
  {
   "cell_type": "code",
   "execution_count": 77,
   "metadata": {},
   "outputs": [
    {
     "name": "stdout",
     "output_type": "stream",
     "text": [
      "i got decorated\n",
      "i am ordinary\n"
     ]
    }
   ],
   "source": [
    "def make_preety(func):\n",
    "    def inner():\n",
    "        print(\"i got decorated\")\n",
    "        func()\n",
    "    return inner\n",
    "\n",
    "def ordinary():\n",
    "    print(\"i am ordinary\")\n",
    "\n",
    "decorate_func = make_preety(ordinary)\n",
    "\n",
    "decorate_func()"
   ]
  },
  {
   "cell_type": "code",
   "execution_count": 79,
   "metadata": {},
   "outputs": [
    {
     "name": "stdout",
     "output_type": "stream",
     "text": [
      "i got decorated\n",
      "i am ordinary\n"
     ]
    }
   ],
   "source": [
    "def make_preety(func):\n",
    "    def inner():\n",
    "        print(\"i got decorated\")\n",
    "        func()\n",
    "    return inner\n",
    "\n",
    "@make_preety\n",
    "def ordinary():\n",
    "    print(\"i am ordinary\")\n",
    "\n",
    "ordinary()"
   ]
  },
  {
   "cell_type": "markdown",
   "metadata": {},
   "source": [
    "create a decorater check positive that \n",
    "check if the input to a function is a positive number\n",
    "if the input is the not positive print a message input must be a positive number \n",
    "\n",
    "use this decorater on a function calculate_square_root that \n",
    "takes one number as a input return the squrae root of the input number\n"
   ]
  },
  {
   "cell_type": "code",
   "execution_count": 81,
   "metadata": {},
   "outputs": [
    {
     "name": "stdout",
     "output_type": "stream",
     "text": [
      "2.449489742783178\n"
     ]
    },
    {
     "ename": "ValueError",
     "evalue": "math domain error",
     "output_type": "error",
     "traceback": [
      "\u001b[1;31m---------------------------------------------------------------------------\u001b[0m",
      "\u001b[1;31mValueError\u001b[0m                                Traceback (most recent call last)",
      "Cell \u001b[1;32mIn[81], line 15\u001b[0m\n\u001b[0;32m     12\u001b[0m     \u001b[38;5;28;01mreturn\u001b[39;00m math\u001b[38;5;241m.\u001b[39msqrt(x)\n\u001b[0;32m     14\u001b[0m \u001b[38;5;28mprint\u001b[39m(calculate_squra_root(\u001b[38;5;241m6\u001b[39m))\n\u001b[1;32m---> 15\u001b[0m \u001b[38;5;28mprint\u001b[39m(\u001b[43mcalculate_squra_root\u001b[49m\u001b[43m(\u001b[49m\u001b[38;5;241;43m-\u001b[39;49m\u001b[38;5;241;43m6\u001b[39;49m\u001b[43m)\u001b[49m)\n",
      "Cell \u001b[1;32mIn[81], line 12\u001b[0m, in \u001b[0;36mcalculate_squra_root\u001b[1;34m(x)\u001b[0m\n\u001b[0;32m     11\u001b[0m \u001b[38;5;28;01mdef\u001b[39;00m \u001b[38;5;21mcalculate_squra_root\u001b[39m(x):\n\u001b[1;32m---> 12\u001b[0m     \u001b[38;5;28;01mreturn\u001b[39;00m \u001b[43mmath\u001b[49m\u001b[38;5;241;43m.\u001b[39;49m\u001b[43msqrt\u001b[49m\u001b[43m(\u001b[49m\u001b[43mx\u001b[49m\u001b[43m)\u001b[49m\n",
      "\u001b[1;31mValueError\u001b[0m: math domain error"
     ]
    }
   ],
   "source": [
    "import math\n",
    "\n",
    "def check_positive(func):\n",
    "    def inner(number):\n",
    "        if(num < 0):\n",
    "            return \"input should be positive\"\n",
    "        else:\n",
    "            func(num)\n",
    "    return inner()\n",
    "    \n",
    "def calculate_squra_root(x):\n",
    "    return math.sqrt(x)\n",
    "\n",
    "print(calculate_squra_root(6))\n",
    "print(calculate_squra_root(-6))\n"
   ]
  }
 ],
 "metadata": {
  "kernelspec": {
   "display_name": "Python 3",
   "language": "python",
   "name": "python3"
  },
  "language_info": {
   "codemirror_mode": {
    "name": "ipython",
    "version": 3
   },
   "file_extension": ".py",
   "mimetype": "text/x-python",
   "name": "python",
   "nbconvert_exporter": "python",
   "pygments_lexer": "ipython3",
   "version": "3.13.0"
  }
 },
 "nbformat": 4,
 "nbformat_minor": 2
}
