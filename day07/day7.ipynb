{
 "cells": [
  {
   "cell_type": "markdown",
   "metadata": {},
   "source": [
    "Numpy libaray"
   ]
  },
  {
   "cell_type": "code",
   "execution_count": 3,
   "metadata": {},
   "outputs": [
    {
     "name": "stdout",
     "output_type": "stream",
     "text": [
      "[3 4 5 6]\n"
     ]
    }
   ],
   "source": [
    "import numpy as np\n",
    "\n",
    "array_1 = np.array([3,4,5,6])\n",
    "print(array_1)\n"
   ]
  },
  {
   "cell_type": "code",
   "execution_count": 3,
   "metadata": {},
   "outputs": [
    {
     "name": "stdout",
     "output_type": "stream",
     "text": [
      "[ 5  7  9 11]\n",
      "[-1 -1 -1 -1]\n",
      "[ 6 12 20 30]\n",
      "[0.66666667 0.75       0.8        0.83333333]\n"
     ]
    }
   ],
   "source": [
    "import numpy as np\n",
    "\n",
    "array_1 = np.array([3,4,5,6])\n",
    "array_2 = np.array([2,3,4,5])\n",
    "sum_array = array_1 + array_2\n",
    "sub_array = array_2 - array_1\n",
    "array = array_1 * array_2 \n",
    "dev_array = array_2/ array_1\n",
    "print(sum_array)\n",
    "print(sub_array)\n",
    "print(array)\n",
    "print(dev_array)"
   ]
  },
  {
   "cell_type": "code",
   "execution_count": 5,
   "metadata": {},
   "outputs": [
    {
     "name": "stdout",
     "output_type": "stream",
     "text": [
      "[ 9 16 25 36]\n"
     ]
    }
   ],
   "source": [
    "import numpy as np\n",
    "\n",
    "array_1 = np.array([3,4,5,6])\n",
    "sq_array = np.square(array_1)\n",
    "print(sq_array)"
   ]
  },
  {
   "cell_type": "code",
   "execution_count": 4,
   "metadata": {},
   "outputs": [
    {
     "name": "stdout",
     "output_type": "stream",
     "text": [
      "38\n"
     ]
    }
   ],
   "source": [
    "import numpy as np\n",
    "\n",
    "array_1 = np.array([3,4,25,6])\n",
    "sum_array = np.sum(array_1)\n",
    "print(sum_array)"
   ]
  },
  {
   "cell_type": "code",
   "execution_count": 7,
   "metadata": {},
   "outputs": [
    {
     "name": "stdout",
     "output_type": "stream",
     "text": [
      "4.5\n"
     ]
    }
   ],
   "source": [
    "import numpy as np\n",
    "\n",
    "array_1 = np.array([3,4,5,6])\n",
    "mean_array = np.mean(array_1)\n",
    "print(mean_array)"
   ]
  },
  {
   "cell_type": "code",
   "execution_count": 8,
   "metadata": {},
   "outputs": [
    {
     "name": "stdout",
     "output_type": "stream",
     "text": [
      "6\n"
     ]
    }
   ],
   "source": [
    "import numpy as np\n",
    "\n",
    "array_1 = np.array([3,4,5,6])\n",
    "max_array = np.max(array_1)\n",
    "print(max_array)"
   ]
  },
  {
   "cell_type": "code",
   "execution_count": 9,
   "metadata": {},
   "outputs": [
    {
     "name": "stdout",
     "output_type": "stream",
     "text": [
      "3\n"
     ]
    }
   ],
   "source": [
    "import numpy as np\n",
    "\n",
    "array_1 = np.array([3,4,5,6])\n",
    "min_array = np.min(array_1)\n",
    "print(min_array)"
   ]
  },
  {
   "cell_type": "code",
   "execution_count": 22,
   "metadata": {},
   "outputs": [
    {
     "name": "stdout",
     "output_type": "stream",
     "text": [
      "[[1 2 3]\n",
      " [4 5 6]]\n",
      "(2, 3)\n",
      "6\n",
      "2\n",
      "int64\n"
     ]
    }
   ],
   "source": [
    "import numpy as np\n",
    "array_1 = np.array([[1,2,3] , [4,5,6]])\n",
    "print(array_1)\n",
    "print(array_1.shape)\n",
    "print(array_1.size)\n",
    "print(array_1.ndim)\n",
    "print(array_2.dtype)\n"
   ]
  },
  {
   "cell_type": "code",
   "execution_count": 21,
   "metadata": {},
   "outputs": [
    {
     "name": "stdout",
     "output_type": "stream",
     "text": [
      "[[[1 2 3]\n",
      "  [4 5 6]]\n",
      "\n",
      " [[7 8 9]\n",
      "  [3 7 1]]]\n",
      "(2, 2, 3)\n",
      "12\n",
      "3\n",
      "int64\n"
     ]
    }
   ],
   "source": [
    "array_2 = np.array([[[1,2,3] , [4,5,6]] , [[7,8,9] , [3,7,1]] ])\n",
    "print(array_2)\n",
    "print(array_2.shape)\n",
    "print(array_2.size)\n",
    "print(array_2.ndim)\n",
    "print(array_2.dtype)"
   ]
  },
  {
   "cell_type": "code",
   "execution_count": 24,
   "metadata": {},
   "outputs": [
    {
     "name": "stdout",
     "output_type": "stream",
     "text": [
      "5\n"
     ]
    }
   ],
   "source": [
    "array = np.array([[1,2,3] , [2,5,6]])\n",
    "print(array[1,1])"
   ]
  },
  {
   "cell_type": "markdown",
   "metadata": {},
   "source": [
    "<!-- #create the numpy array with the shape four by 5 containing the numbers 1 to 20\n",
    "\n",
    "# perfome the following oparation on the above mactriese\n",
    "# * add 10 -to every element\n",
    "# multipy every element by 2\n",
    "# calculate the squre of each element -->"
   ]
  },
  {
   "cell_type": "code",
   "execution_count": 25,
   "metadata": {},
   "outputs": [
    {
     "name": "stdout",
     "output_type": "stream",
     "text": [
      "[[11 12 13 17 18]\n",
      " [14 15 16 12 11]\n",
      " [11 12 13 17 16]\n",
      " [14 15 16 11 12]]\n",
      "[[ 2  4  6 14 16]\n",
      " [ 8 10 12  4  2]\n",
      " [ 2  4  6 14 12]\n",
      " [ 8 10 12  2  4]]\n",
      "[[ 1  4  9 49 64]\n",
      " [16 25 36  4  1]\n",
      " [ 1  4  9 49 36]\n",
      " [16 25 36  1  4]]\n"
     ]
    }
   ],
   "source": [
    "import numpy as np\n",
    "array_1 = np.array([[1,2,3,7,8] , [4,5,6,2,1],[1,2,3,7,6] , [4,5,6,1,2],])\n",
    "array_add_10 = array_1 + 10\n",
    "print(array_add_10)\n",
    "array_multi_ = array_1 * 2\n",
    "print(array_multi_)\n",
    "array_power = array_1 **2\n",
    "print(array_power)\n"
   ]
  },
  {
   "cell_type": "code",
   "execution_count": 28,
   "metadata": {},
   "outputs": [
    {
     "name": "stdout",
     "output_type": "stream",
     "text": [
      "[False False  True  True  True]\n",
      "[30 40 50]\n"
     ]
    }
   ],
   "source": [
    "arr = np.array([10,20,30,40,50])\n",
    "condition = arr > 25\n",
    "print(condition)\n",
    "result = arr[condition]\n",
    "print(result)"
   ]
  },
  {
   "cell_type": "code",
   "execution_count": 29,
   "metadata": {},
   "outputs": [
    {
     "name": "stdout",
     "output_type": "stream",
     "text": [
      "[30 40]\n"
     ]
    }
   ],
   "source": [
    "arr = np.array([10,20,20,30,40,50])\n",
    "filtered = arr[(arr>20) & (arr<50)]\n",
    "print(filtered)"
   ]
  },
  {
   "cell_type": "markdown",
   "metadata": {},
   "source": [
    "create a numpy array with nums 1 -20\n",
    "use boolen indexing to extarct all even numbers\n",
    "\n",
    "given the numpy array with elemnts 10 20 30 40 50 , use boolean indexing to extarct all elemnts greter than the mean of the array\n"
   ]
  },
  {
   "cell_type": "code",
   "execution_count": 33,
   "metadata": {},
   "outputs": [
    {
     "name": "stdout",
     "output_type": "stream",
     "text": [
      "[ 2  4  6  8 10 12 14 16 18 20]\n",
      "[40 50]\n"
     ]
    }
   ],
   "source": [
    "arr = np.array([1,2,3,4,5,6,7,8,9,10,11,12,13,14,15,16,17,18,19,20])\n",
    "filtered = arr[(arr % 2 == 0)]\n",
    "print(filtered)\n",
    "\n",
    "\n",
    "array = np.array([10,20,30,40,50])\n",
    "mean_array = np.mean(array)\n",
    "\n",
    "filtered_arr = array[array > mean_array]\n",
    "print(filtered_arr)\n"
   ]
  },
  {
   "cell_type": "code",
   "execution_count": 34,
   "metadata": {},
   "outputs": [
    {
     "name": "stdout",
     "output_type": "stream",
     "text": [
      "[0. 0. 0. 0. 0.]\n"
     ]
    }
   ],
   "source": [
    "print(np.zeros(5))"
   ]
  },
  {
   "cell_type": "code",
   "execution_count": 40,
   "metadata": {},
   "outputs": [
    {
     "name": "stdout",
     "output_type": "stream",
     "text": [
      "[[0 0 0]\n",
      " [0 0 0]]\n"
     ]
    }
   ],
   "source": [
    "print(np.zeros((2,3),dtype=int))"
   ]
  },
  {
   "cell_type": "code",
   "execution_count": 41,
   "metadata": {},
   "outputs": [
    {
     "name": "stdout",
     "output_type": "stream",
     "text": [
      "[10 10 10 10 10 10 10 10]\n"
     ]
    }
   ],
   "source": [
    "print(np.full(8,10))"
   ]
  },
  {
   "cell_type": "code",
   "execution_count": 42,
   "metadata": {},
   "outputs": [
    {
     "name": "stdout",
     "output_type": "stream",
     "text": [
      "[[7 7 7 7]\n",
      " [7 7 7 7]\n",
      " [7 7 7 7]]\n"
     ]
    }
   ],
   "source": [
    "print(np.full((3,4) , 7))"
   ]
  },
  {
   "cell_type": "code",
   "execution_count": 44,
   "metadata": {},
   "outputs": [
    {
     "name": "stdout",
     "output_type": "stream",
     "text": [
      "[[0. 0. 0.]\n",
      " [0. 0. 0.]]\n"
     ]
    }
   ],
   "source": [
    "print(np.empty((2,3)))"
   ]
  },
  {
   "cell_type": "markdown",
   "metadata": {},
   "source": [
    "pandas library"
   ]
  },
  {
   "cell_type": "code",
   "execution_count": 54,
   "metadata": {},
   "outputs": [
    {
     "name": "stdout",
     "output_type": "stream",
     "text": [
      "<class 'pandas.core.frame.DataFrame'>\n",
      "    Name  Age\n",
      "0  sachi   23\n",
      "2   vima   54\n"
     ]
    }
   ],
   "source": [
    "import pandas as pd\n",
    "\n",
    "data = {'Name' : ['sachi' , 'Bob' , 'vima'], 'Age' : [23,21,54]}\n",
    "\n",
    "df = pd.DataFrame(data)\n",
    "# print(df)\n",
    "print(type(df))\n",
    "\n",
    "# print(df.loc[1,'Name'])\n",
    "\n",
    "# print(df.iloc[2,0])\n",
    "\n",
    "# print(df.loc[2])\n",
    "\n",
    "print(df.loc[[0,2]])"
   ]
  },
  {
   "cell_type": "code",
   "execution_count": 68,
   "metadata": {},
   "outputs": [
    {
     "name": "stdout",
     "output_type": "stream",
     "text": [
      "      calories  duration\n",
      "day1       420        50\n",
      "day2       329        45\n",
      "day3       429        40\n",
      "429\n",
      "429\n",
      "calories    329\n",
      "duration     45\n",
      "Name: day2, dtype: int64\n",
      "calories    329\n",
      "duration     45\n",
      "Name: day2, dtype: int64\n",
      "day1    420\n",
      "day2    329\n",
      "day3    429\n",
      "Name: calories, dtype: int64\n"
     ]
    }
   ],
   "source": [
    "import pandas as pd\n",
    "data = {\n",
    "    \"calories\" : [420,329,429],\n",
    "    \"duration\" : [50,45,40]\n",
    "}\n",
    "df = pd.DataFrame(data, index=[\"day1\",\"day2\",\"day3\"])\n",
    "\n",
    "print(df)\n",
    "\n",
    "print(df.loc[\"day3\", \"calories\"])\n",
    "\n",
    "print(df.iloc[2,0])\n",
    "\n",
    "print(df.loc[\"day2\"])\n",
    "\n",
    "print(df.iloc[1])\n",
    "\n",
    "print(df[\"calories\"])\n",
    "\n",
    "\n"
   ]
  },
  {
   "cell_type": "code",
   "execution_count": 78,
   "metadata": {},
   "outputs": [
    {
     "name": "stdout",
     "output_type": "stream",
     "text": [
      "3\n",
      "<bound method DataFrame.mean of    calories  duration\n",
      "0       420        50\n",
      "1       329        45\n",
      "2       429        40>\n",
      "<bound method DataFrame.sum of    calories  duration\n",
      "0       420        50\n",
      "1       329        45\n",
      "2       429        40>\n"
     ]
    }
   ],
   "source": [
    "import pandas as pd\n",
    "data = {\n",
    "    \"calories\" : [420,329,429],\n",
    "    \"duration\" : [50,45,40]\n",
    "}\n",
    "\n",
    "df = pd.DataFrame(data)\n",
    "# print(df.shape)\n",
    "# print(df.size)\n",
    "# print(df.dtypes)\n",
    "\n",
    "# print(df.columns)\n",
    "# print(list(df.columns))\n",
    "\n",
    "# array = df.values\n",
    "# print(array)\n",
    "# print(type(array))\n",
    "\n",
    "print(len(df))\n",
    "\n",
    "print(df.mean)\n",
    "print(df.sum)"
   ]
  },
  {
   "cell_type": "markdown",
   "metadata": {},
   "source": [
    "you are a data analitist for a company the company has provided with a following table contain sales data\n",
    "task : \n",
    "use pandas to load the above table into a data frame \n",
    "add the new coloumn total_revenue that calculates the total revenune for the each order\n",
    "identify the best selling product(s) "
   ]
  },
  {
   "cell_type": "code",
   "execution_count": 90,
   "metadata": {},
   "outputs": [
    {
     "name": "stdout",
     "output_type": "stream",
     "text": [
      "   OrderId     Product    Category  Quantity  PricePerUnit  TotalReneve\n",
      "0      101      Laptop  Electronic         2          1000         2000\n",
      "1      102  SmartPhone  Electronic         5           800         4000\n",
      "2      103  Desk Chair  Electronic        10           150         1500\n",
      "3      104     Monitor  Electronic         4           200          800\n",
      "4      105   BookShelf   Furniture         2           300          600\n",
      "   OrderId     Product    Category  Quantity  PricePerUnit  TotalReneve\n",
      "1      102  SmartPhone  Electronic         5           800         4000\n"
     ]
    }
   ],
   "source": [
    "import pandas as pd\n",
    "data= {\n",
    "    'OrderId':[101,102,103,104,105],\n",
    "    'Product':['Laptop','SmartPhone','Desk Chair','Monitor','BookShelf'],\n",
    "    'Category':['Electronic','Electronic','Electronic','Electronic','Furniture'],\n",
    "    'Quantity':[2,5,10,4,2],\n",
    "    'PricePerUnit':[1000,800,150,200,300]\n",
    "}\n",
    "\n",
    "df = pd.DataFrame(data)\n",
    "\n",
    "df['TotalReneve'] = df['Quantity'] * df['PricePerUnit']\n",
    "print(df)\n",
    "\n",
    "\n",
    "\n",
    "high_revenue = df[df['TotalReneve'] == df['TotalReneve'].max()]\n",
    "print(high_revenue)\n"
   ]
  },
  {
   "cell_type": "code",
   "execution_count": 92,
   "metadata": {},
   "outputs": [
    {
     "name": "stdout",
     "output_type": "stream",
     "text": [
      "      Name  Age  Score\n",
      "2  Charlie   27     78\n",
      "3    David   38     82\n",
      "<class 'pandas.core.frame.DataFrame'>\n",
      "      Name  Age  Score\n",
      "0    Alice   23     34\n",
      "1      Bob   24     56\n",
      "2  Charlie   27     78\n",
      "3    David   38     82\n",
      "      Name  Age  Score  salary\n",
      "0    Alice   23     34    2000\n",
      "1      Bob   24     56    4000\n",
      "2  Charlie   27     78    3007\n",
      "3    David   38     82    2990\n"
     ]
    }
   ],
   "source": [
    "data = {\n",
    "    'Name': ['Alice','Bob','Charlie','David'],\n",
    "    'Age' : [23,24,27,38],\n",
    "    'Score' : [34,56,78,82]\n",
    "}\n",
    "df = pd.DataFrame(data)\n",
    "\n",
    "filtered = df[df['Age'] >25]\n",
    "print(filtered)\n",
    "print(type(filtered))\n",
    "\n",
    "sorted = df.sort_values(by='Age')\n",
    "print(sorted)\n",
    "\n",
    "df['salary'] = [2000,4000,3007,2990]\n",
    "print(df)"
   ]
  },
  {
   "cell_type": "code",
   "execution_count": 101,
   "metadata": {},
   "outputs": [
    {
     "name": "stdout",
     "output_type": "stream",
     "text": [
      "   A  B\n",
      "0  2  4\n",
      "1  3  6\n",
      "2  5  6\n",
      "   A  B\n",
      "0  2  4\n",
      "2  5  6\n"
     ]
    }
   ],
   "source": [
    "df = pd.DataFrame({'A' : [2,3],'B': [4,6]})\n",
    "\n",
    "df.loc[len(df)] = [5,6]\n",
    "\n",
    "print(df)\n",
    "\n",
    "# ab = df.drop('B', axis=1)\n",
    "# print(ab)\n",
    "\n",
    "# ab = df.drop('A', axis=1, inplace=True)\n",
    "# print(ab)\n",
    "\n",
    "filtered =df.drop(1,axis=0)\n",
    "print(filtered)\n"
   ]
  },
  {
   "cell_type": "markdown",
   "metadata": {},
   "source": [
    "read csv files"
   ]
  },
  {
   "cell_type": "code",
   "execution_count": 102,
   "metadata": {},
   "outputs": [
    {
     "name": "stdout",
     "output_type": "stream",
     "text": [
      "   emploeeId     name department  salary\n",
      "0          1    Jhone         IT   60000\n",
      "1          2  sachini         HR  690900\n",
      "2          3   sasoba    Finance   20000\n",
      "3          4     dinu         IT   65000\n"
     ]
    }
   ],
   "source": [
    "df = pd.read_csv('employees.csv')\n",
    "print(df)"
   ]
  },
  {
   "cell_type": "code",
   "execution_count": 1,
   "metadata": {},
   "outputs": [
    {
     "name": "stdout",
     "output_type": "stream",
     "text": [
      "      name  grade\n",
      "0    alice     85\n",
      "1      bob     72\n",
      "2  charlie     90\n",
      "3    david     65\n",
      "4  sachini     59\n"
     ]
    }
   ],
   "source": [
    "import pandas as pd\n",
    "df = pd.read_json('students.json')\n",
    "print(df)"
   ]
  }
 ],
 "metadata": {
  "kernelspec": {
   "display_name": "Python 3",
   "language": "python",
   "name": "python3"
  },
  "language_info": {
   "codemirror_mode": {
    "name": "ipython",
    "version": 3
   },
   "file_extension": ".py",
   "mimetype": "text/x-python",
   "name": "python",
   "nbconvert_exporter": "python",
   "pygments_lexer": "ipython3",
   "version": "3.13.0"
  }
 },
 "nbformat": 4,
 "nbformat_minor": 2
}
